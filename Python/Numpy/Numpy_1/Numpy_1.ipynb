{
 "cells": [
  {
   "cell_type": "markdown",
   "metadata": {},
   "source": [
    "NumPy(Numerical Python)\n",
    "- 고성능 과학 계산용 패키치, 강력한 N차원 배열 객체\n",
    "- 데이터 처리에 사용 가능한 다차원 컨테이너\n",
    "- 정교한 브로드캐스팅(broadcasting)기능\n",
    "- 파이썬의 자료형 list와 비슷하지만, 더 빠르고 메모리를 효율적으로 관리\n",
    "- 반복문 없이 데이터 배열에 대한 처리를 지원하여 빠르고 편리\n",
    "- 데이터 과학 도구의 핵심 ( Numpy 패키지를 활용한 다양한 패키지 존재)"
   ]
  },
  {
   "cell_type": "code",
   "execution_count": 2,
   "metadata": {},
   "outputs": [],
   "source": [
    "import numpy as np"
   ]
  },
  {
   "cell_type": "markdown",
   "metadata": {},
   "source": [
    "# 배열 생성 / 초기화"
   ]
  },
  {
   "cell_type": "markdown",
   "metadata": {},
   "source": [
    "## 리스트로 생성"
   ]
  },
  {
   "cell_type": "code",
   "execution_count": 8,
   "metadata": {},
   "outputs": [
    {
     "name": "stdout",
     "output_type": "stream",
     "text": [
      "[1 2 3 4 5]\n",
      "<class 'numpy.ndarray'>\n",
      "(5,)\n",
      "1 2 3 4 5\n",
      "[4 5 6 4 5]\n"
     ]
    }
   ],
   "source": [
    "a1 = np.array([1,2,3,4,5]) # 1D array\n",
    "print(a1)\n",
    "print(type(a1))\n",
    "print(a1.shape)\n",
    "print(a1[0], a1[1], a1[2], a1[3], a1[4]) # list와 같이 idx로 접근가능.\n",
    "a1[0] = 4\n",
    "a1[1] = 5\n",
    "a1[2] = 6\n",
    "print(a1)"
   ]
  },
  {
   "cell_type": "code",
   "execution_count": 12,
   "metadata": {},
   "outputs": [
    {
     "name": "stdout",
     "output_type": "stream",
     "text": [
      "[[1 2 3]\n",
      " [4 5 6]\n",
      " [7 8 9]]\n",
      "(3, 3)\n",
      "1 5 9\n"
     ]
    }
   ],
   "source": [
    "a2 = np.array([[1,2,3],[4,5,6],[7,8,9]]) #2D array\n",
    "print(a2)\n",
    "print(a2.shape)\n",
    "print(a2[0,0], a2[1,1], a2[2,2])"
   ]
  },
  {
   "cell_type": "code",
   "execution_count": 16,
   "metadata": {},
   "outputs": [
    {
     "name": "stdout",
     "output_type": "stream",
     "text": [
      "[[[1 2 3]\n",
      "  [4 5 6]\n",
      "  [7 8 9]]\n",
      "\n",
      " [[1 2 3]\n",
      "  [4 5 6]\n",
      "  [7 8 9]]\n",
      "\n",
      " [[1 2 3]\n",
      "  [4 5 6]\n",
      "  [7 8 9]]]\n",
      "(3, 3, 3)\n"
     ]
    }
   ],
   "source": [
    "a3 = np.array([[[1,2,3],[4,5,6],[7,8,9]],\n",
    "               [[1,2,3],[4,5,6],[7,8,9]],\n",
    "               [[1,2,3],[4,5,6],[7,8,9]]]) # 3D array\n",
    "print(a3)\n",
    "print(a3.shape)"
   ]
  },
  {
   "cell_type": "markdown",
   "metadata": {},
   "source": [
    "## 배열 생성 및 초기화"
   ]
  },
  {
   "cell_type": "markdown",
   "metadata": {},
   "source": [
    "- zeros() : 모든 element를 0으로 초기화"
   ]
  },
  {
   "cell_type": "code",
   "execution_count": 17,
   "metadata": {},
   "outputs": [
    {
     "data": {
      "text/plain": [
       "array([0., 0., 0., 0., 0., 0., 0., 0., 0., 0.])"
      ]
     },
     "execution_count": 17,
     "metadata": {},
     "output_type": "execute_result"
    }
   ],
   "source": [
    "np.zeros(10)"
   ]
  },
  {
   "cell_type": "markdown",
   "metadata": {},
   "source": [
    "- ones() : 모든 element를 1로 초기화"
   ]
  },
  {
   "cell_type": "code",
   "execution_count": 18,
   "metadata": {},
   "outputs": [
    {
     "data": {
      "text/plain": [
       "array([1., 1., 1., 1., 1., 1., 1., 1., 1., 1.])"
      ]
     },
     "execution_count": 18,
     "metadata": {},
     "output_type": "execute_result"
    }
   ],
   "source": [
    "np.ones(10)"
   ]
  },
  {
   "cell_type": "code",
   "execution_count": 19,
   "metadata": {},
   "outputs": [
    {
     "data": {
      "text/plain": [
       "array([[1., 1., 1.],\n",
       "       [1., 1., 1.],\n",
       "       [1., 1., 1.]])"
      ]
     },
     "execution_count": 19,
     "metadata": {},
     "output_type": "execute_result"
    }
   ],
   "source": [
    "np.ones((3,3)) #다 차원도 가능"
   ]
  },
  {
   "cell_type": "markdown",
   "metadata": {},
   "source": [
    "- full() : 모든 element를 지정한 값으로 초기화 / 정수,실수 전부가능"
   ]
  },
  {
   "cell_type": "code",
   "execution_count": 21,
   "metadata": {},
   "outputs": [
    {
     "data": {
      "text/plain": [
       "array([[1.23, 1.23, 1.23],\n",
       "       [1.23, 1.23, 1.23],\n",
       "       [1.23, 1.23, 1.23]])"
      ]
     },
     "execution_count": 21,
     "metadata": {},
     "output_type": "execute_result"
    }
   ],
   "source": [
    "np.full((3,3),1.23)"
   ]
  },
  {
   "cell_type": "markdown",
   "metadata": {},
   "source": [
    "- eye() : Identity(단위 행렬) 생성 , 단위행렬은 정방 행렬이기 때문에 shape가 아닌 dim 입력"
   ]
  },
  {
   "cell_type": "code",
   "execution_count": 22,
   "metadata": {},
   "outputs": [
    {
     "data": {
      "text/plain": [
       "array([[1., 0., 0.],\n",
       "       [0., 1., 0.],\n",
       "       [0., 0., 1.]])"
      ]
     },
     "execution_count": 22,
     "metadata": {},
     "output_type": "execute_result"
    }
   ],
   "source": [
    "np.eye(3)"
   ]
  },
  {
   "cell_type": "markdown",
   "metadata": {},
   "source": [
    "- tri() : 삼각행렬 생성"
   ]
  },
  {
   "cell_type": "code",
   "execution_count": 23,
   "metadata": {},
   "outputs": [
    {
     "data": {
      "text/plain": [
       "array([[1., 0., 0.],\n",
       "       [1., 1., 0.],\n",
       "       [1., 1., 1.]])"
      ]
     },
     "execution_count": 23,
     "metadata": {},
     "output_type": "execute_result"
    }
   ],
   "source": [
    "np.tri(3)"
   ]
  },
  {
   "cell_type": "markdown",
   "metadata": {},
   "source": [
    "- empty() : 초기화되지 않은 배열 생성(초기화가 없어서 배열 생성 빠름, 기존 메모리 위치에 존재하는 값이 있음"
   ]
  },
  {
   "cell_type": "code",
   "execution_count": 24,
   "metadata": {},
   "outputs": [
    {
     "data": {
      "text/plain": [
       "array([1., 1., 1., 1., 1., 1., 1., 1., 1., 1.])"
      ]
     },
     "execution_count": 24,
     "metadata": {},
     "output_type": "execute_result"
    }
   ],
   "source": [
    "np.empty(10)"
   ]
  },
  {
   "cell_type": "markdown",
   "metadata": {},
   "source": [
    "- _like() : 지정된 배열과 shape가 같은 행렬 생성"
   ]
  },
  {
   "cell_type": "code",
   "execution_count": 25,
   "metadata": {},
   "outputs": [
    {
     "name": "stdout",
     "output_type": "stream",
     "text": [
      "[4 5 6 4 5]\n"
     ]
    },
    {
     "data": {
      "text/plain": [
       "array([0, 0, 0, 0, 0])"
      ]
     },
     "execution_count": 25,
     "metadata": {},
     "output_type": "execute_result"
    }
   ],
   "source": [
    "print(a1)\n",
    "np.zeros_like(a1)"
   ]
  },
  {
   "cell_type": "code",
   "execution_count": 26,
   "metadata": {},
   "outputs": [
    {
     "name": "stdout",
     "output_type": "stream",
     "text": [
      "[[1 2 3]\n",
      " [4 5 6]\n",
      " [7 8 9]]\n"
     ]
    },
    {
     "data": {
      "text/plain": [
       "array([[1, 1, 1],\n",
       "       [1, 1, 1],\n",
       "       [1, 1, 1]])"
      ]
     },
     "execution_count": 26,
     "metadata": {},
     "output_type": "execute_result"
    }
   ],
   "source": [
    "print(a2)\n",
    "np.ones_like(a2)"
   ]
  },
  {
   "cell_type": "code",
   "execution_count": 27,
   "metadata": {},
   "outputs": [
    {
     "name": "stdout",
     "output_type": "stream",
     "text": [
      "[[[1 2 3]\n",
      "  [4 5 6]\n",
      "  [7 8 9]]\n",
      "\n",
      " [[1 2 3]\n",
      "  [4 5 6]\n",
      "  [7 8 9]]\n",
      "\n",
      " [[1 2 3]\n",
      "  [4 5 6]\n",
      "  [7 8 9]]]\n"
     ]
    },
    {
     "data": {
      "text/plain": [
       "array([[[10, 10, 10],\n",
       "        [10, 10, 10],\n",
       "        [10, 10, 10]],\n",
       "\n",
       "       [[10, 10, 10],\n",
       "        [10, 10, 10],\n",
       "        [10, 10, 10]],\n",
       "\n",
       "       [[10, 10, 10],\n",
       "        [10, 10, 10],\n",
       "        [10, 10, 10]]])"
      ]
     },
     "execution_count": 27,
     "metadata": {},
     "output_type": "execute_result"
    }
   ],
   "source": [
    "print(a3)\n",
    "np.full_like(a3, 10)"
   ]
  },
  {
   "cell_type": "markdown",
   "metadata": {},
   "source": [
    "## 생성한 값으로 배열 생성"
   ]
  },
  {
   "cell_type": "markdown",
   "metadata": {},
   "source": [
    "- arange() : 정수 범위로 배열 생성"
   ]
  },
  {
   "cell_type": "code",
   "execution_count": 31,
   "metadata": {},
   "outputs": [
    {
     "data": {
      "text/plain": [
       "array([ 0,  2,  4,  6,  8, 10, 12, 14, 16, 18, 20, 22, 24, 26, 28])"
      ]
     },
     "execution_count": 31,
     "metadata": {},
     "output_type": "execute_result"
    }
   ],
   "source": [
    "np.arange(0,30,2)    # (start, < stop,step)"
   ]
  },
  {
   "cell_type": "markdown",
   "metadata": {},
   "source": [
    "- linspace() : 범위내에서 균등 간격의 배열 생성"
   ]
  },
  {
   "cell_type": "code",
   "execution_count": 33,
   "metadata": {},
   "outputs": [
    {
     "data": {
      "text/plain": [
       "array([0.  , 0.25, 0.5 , 0.75, 1.  ])"
      ]
     },
     "execution_count": 33,
     "metadata": {},
     "output_type": "execute_result"
    }
   ],
   "source": [
    "np.linspace(0,1,5) # 0 ~ 1 까지를 균등하게 5개로 나눔."
   ]
  },
  {
   "cell_type": "markdown",
   "metadata": {},
   "source": [
    "- logspace() : 범위내에서 균등간격으로 로그 스케일 배열 생성"
   ]
  },
  {
   "cell_type": "code",
   "execution_count": 34,
   "metadata": {},
   "outputs": [
    {
     "data": {
      "text/plain": [
       "array([ 1.25892541,  1.40400425,  1.565802  ,  1.74624535,  1.94748304,\n",
       "        2.1719114 ,  2.42220294,  2.70133812,  3.0126409 ,  3.35981829,\n",
       "        3.74700446,  4.17881006,  4.66037703,  5.19743987,  5.79639395,\n",
       "        6.46437163,  7.2093272 ,  8.04013161,  8.9666781 , 10.        ])"
      ]
     },
     "execution_count": 34,
     "metadata": {},
     "output_type": "execute_result"
    }
   ],
   "source": [
    "np.logspace(0.1,1,20)"
   ]
  },
  {
   "cell_type": "markdown",
   "metadata": {},
   "source": [
    "## 랜덤값으로 배열 생성"
   ]
  },
  {
   "cell_type": "markdown",
   "metadata": {},
   "source": [
    "- random.random():랜덤한 수의 배열 생성 (실수값 반환)"
   ]
  },
  {
   "cell_type": "code",
   "execution_count": 35,
   "metadata": {},
   "outputs": [
    {
     "data": {
      "text/plain": [
       "array([[0.20065721, 0.16667834, 0.86992363],\n",
       "       [0.99154415, 0.79982087, 0.80252247],\n",
       "       [0.84435456, 0.58628662, 0.37214249]])"
      ]
     },
     "execution_count": 35,
     "metadata": {},
     "output_type": "execute_result"
    }
   ],
   "source": [
    "np.random.random((3,3))"
   ]
  },
  {
   "cell_type": "markdown",
   "metadata": {},
   "source": [
    "- random.randint() : 일정 구간의 랜덤 정수의 배열 생성"
   ]
  },
  {
   "cell_type": "code",
   "execution_count": 37,
   "metadata": {},
   "outputs": [
    {
     "data": {
      "text/plain": [
       "array([[7, 6, 7],\n",
       "       [4, 4, 6],\n",
       "       [1, 0, 0]])"
      ]
     },
     "execution_count": 37,
     "metadata": {},
     "output_type": "execute_result"
    }
   ],
   "source": [
    "np.random.randint(0,10,(3,3))  #(range,range,(shape))"
   ]
  },
  {
   "cell_type": "markdown",
   "metadata": {},
   "source": [
    "- random.normal(): Normal Distribution를 고려한 랜덤한 수의 배열 생성"
   ]
  },
  {
   "cell_type": "code",
   "execution_count": 39,
   "metadata": {},
   "outputs": [
    {
     "data": {
      "text/plain": [
       "array([[-0.49741766,  0.24702499,  0.49878718],\n",
       "       [-1.17774629,  0.66039217,  0.57064354],\n",
       "       [-0.15351716, -2.43728005,  0.53485458]])"
      ]
     },
     "execution_count": 39,
     "metadata": {},
     "output_type": "execute_result"
    }
   ],
   "source": [
    "np.random.normal(0,1,(3,3))  # (평균, 표준편차, (사이즈))"
   ]
  },
  {
   "cell_type": "markdown",
   "metadata": {},
   "source": [
    "- random.rand() : Uniform Distribution을 고려한 랜덤한 수의 배열 생성"
   ]
  },
  {
   "cell_type": "code",
   "execution_count": 40,
   "metadata": {},
   "outputs": [
    {
     "data": {
      "text/plain": [
       "array([[0.46174036, 0.52530707, 0.56236858],\n",
       "       [0.97822469, 0.85980625, 0.91929192],\n",
       "       [0.49745877, 0.90776206, 0.97843033]])"
      ]
     },
     "execution_count": 40,
     "metadata": {},
     "output_type": "execute_result"
    }
   ],
   "source": [
    "np.random.rand(3,3)"
   ]
  },
  {
   "cell_type": "markdown",
   "metadata": {},
   "source": [
    "- random.randn() : Standard Normal Distribution을 고려한 랜덤한 수의 배열 생성"
   ]
  },
  {
   "cell_type": "code",
   "execution_count": 41,
   "metadata": {},
   "outputs": [
    {
     "data": {
      "text/plain": [
       "array([[ 0.70586519, -0.78926487,  1.28233638],\n",
       "       [ 1.24450453,  0.94716892, -0.09864589],\n",
       "       [ 0.46533662, -0.41265553,  0.05789723]])"
      ]
     },
     "execution_count": 41,
     "metadata": {},
     "output_type": "execute_result"
    }
   ],
   "source": [
    "np.random.randn(3,3)"
   ]
  },
  {
   "cell_type": "markdown",
   "metadata": {},
   "source": [
    "## 표준 데이터 타입"
   ]
  },
  {
   "cell_type": "code",
   "execution_count": 43,
   "metadata": {},
   "outputs": [
    {
     "data": {
      "text/plain": [
       "array([0, 0, 0, 0, 0, 0, 0, 0, 0, 0, 0, 0, 0, 0, 0, 0, 0, 0, 0, 0])"
      ]
     },
     "execution_count": 43,
     "metadata": {},
     "output_type": "execute_result"
    }
   ],
   "source": [
    "np.zeros(20,dtype=int)"
   ]
  },
  {
   "cell_type": "code",
   "execution_count": 44,
   "metadata": {},
   "outputs": [
    {
     "data": {
      "text/plain": [
       "array([[ True,  True,  True],\n",
       "       [ True,  True,  True],\n",
       "       [ True,  True,  True]])"
      ]
     },
     "execution_count": 44,
     "metadata": {},
     "output_type": "execute_result"
    }
   ],
   "source": [
    "np.ones((3,3), dtype=bool)"
   ]
  },
  {
   "cell_type": "code",
   "execution_count": 45,
   "metadata": {},
   "outputs": [
    {
     "data": {
      "text/plain": [
       "array([[1., 1., 1.],\n",
       "       [1., 1., 1.],\n",
       "       [1., 1., 1.]])"
      ]
     },
     "execution_count": 45,
     "metadata": {},
     "output_type": "execute_result"
    }
   ],
   "source": [
    "np.full((3,3),1.0,dtype=float)"
   ]
  },
  {
   "cell_type": "markdown",
   "metadata": {},
   "source": [
    "## 날짜/시간 배열 생성"
   ]
  },
  {
   "cell_type": "code",
   "execution_count": 47,
   "metadata": {},
   "outputs": [
    {
     "data": {
      "text/plain": [
       "array('2020-01-01', dtype='datetime64[D]')"
      ]
     },
     "execution_count": 47,
     "metadata": {},
     "output_type": "execute_result"
    }
   ],
   "source": [
    "date = np.array('2020-01-01', dtype=np.datetime64)\n",
    "date"
   ]
  },
  {
   "cell_type": "code",
   "execution_count": 48,
   "metadata": {},
   "outputs": [
    {
     "data": {
      "text/plain": [
       "array(['2020-01-01', '2020-01-02', '2020-01-03', '2020-01-04',\n",
       "       '2020-01-05', '2020-01-06', '2020-01-07', '2020-01-08',\n",
       "       '2020-01-09', '2020-01-10', '2020-01-11', '2020-01-12'],\n",
       "      dtype='datetime64[D]')"
      ]
     },
     "execution_count": 48,
     "metadata": {},
     "output_type": "execute_result"
    }
   ],
   "source": [
    "date + np.arange(12)"
   ]
  },
  {
   "cell_type": "code",
   "execution_count": 49,
   "metadata": {},
   "outputs": [
    {
     "data": {
      "text/plain": [
       "numpy.datetime64('2020-06-01T12:00')"
      ]
     },
     "execution_count": 49,
     "metadata": {},
     "output_type": "execute_result"
    }
   ],
   "source": [
    "datetime = np.datetime64('2020-06-01 12:00')\n",
    "datetime"
   ]
  },
  {
   "cell_type": "code",
   "execution_count": 51,
   "metadata": {},
   "outputs": [
    {
     "data": {
      "text/plain": [
       "numpy.datetime64('2020-06-01T12:00:12.340000000')"
      ]
     },
     "execution_count": 51,
     "metadata": {},
     "output_type": "execute_result"
    }
   ],
   "source": [
    "datetime = np.datetime64('2020-06-01 12:00:12.34', 'ns')\n",
    "datetime"
   ]
  },
  {
   "cell_type": "markdown",
   "metadata": {},
   "source": [
    "# 배열 조회"
   ]
  },
  {
   "cell_type": "markdown",
   "metadata": {},
   "source": [
    "## 배열 속성 정보"
   ]
  },
  {
   "cell_type": "code",
   "execution_count": 52,
   "metadata": {},
   "outputs": [],
   "source": [
    "def array_info(array):\n",
    "    print(array)\n",
    "    print(\"ndim:\",array.ndim)\n",
    "    print(\"shape:\",array.shape)\n",
    "    print(\"dtype:\",array.dtype)\n",
    "    print(\"size:\", array.size)\n",
    "    print(\"itemsize:\",array.itemsize)\n",
    "    print(\"nbytes:\",array.nbytes)\n",
    "    print(\"strides:\",array.strides)"
   ]
  },
  {
   "cell_type": "code",
   "execution_count": 53,
   "metadata": {},
   "outputs": [
    {
     "name": "stdout",
     "output_type": "stream",
     "text": [
      "[4 5 6 4 5]\n",
      "ndim: 1\n",
      "shape: (5,)\n",
      "dtype: int64\n",
      "size: 5\n",
      "itemsize: 8\n",
      "nbytes: 40\n",
      "strides: (8,)\n"
     ]
    }
   ],
   "source": [
    "array_info(a1)"
   ]
  },
  {
   "cell_type": "code",
   "execution_count": 54,
   "metadata": {},
   "outputs": [
    {
     "name": "stdout",
     "output_type": "stream",
     "text": [
      "[[1 2 3]\n",
      " [4 5 6]\n",
      " [7 8 9]]\n",
      "ndim: 2\n",
      "shape: (3, 3)\n",
      "dtype: int64\n",
      "size: 9\n",
      "itemsize: 8\n",
      "nbytes: 72\n",
      "strides: (24, 8)\n"
     ]
    }
   ],
   "source": [
    "array_info(a2)"
   ]
  },
  {
   "cell_type": "code",
   "execution_count": 55,
   "metadata": {},
   "outputs": [
    {
     "name": "stdout",
     "output_type": "stream",
     "text": [
      "[[[1 2 3]\n",
      "  [4 5 6]\n",
      "  [7 8 9]]\n",
      "\n",
      " [[1 2 3]\n",
      "  [4 5 6]\n",
      "  [7 8 9]]\n",
      "\n",
      " [[1 2 3]\n",
      "  [4 5 6]\n",
      "  [7 8 9]]]\n",
      "ndim: 3\n",
      "shape: (3, 3, 3)\n",
      "dtype: int64\n",
      "size: 27\n",
      "itemsize: 8\n",
      "nbytes: 216\n",
      "strides: (72, 24, 8)\n"
     ]
    }
   ],
   "source": [
    "array_info(a3)"
   ]
  },
  {
   "cell_type": "markdown",
   "metadata": {},
   "source": [
    "## 인덱싱(Indexing)"
   ]
  },
  {
   "cell_type": "code",
   "execution_count": 57,
   "metadata": {},
   "outputs": [
    {
     "name": "stdout",
     "output_type": "stream",
     "text": [
      "[4 5 6 4 5]\n",
      "4\n",
      "5\n",
      "5\n",
      "4\n"
     ]
    }
   ],
   "source": [
    "print(a1)\n",
    "print(a1[0])\n",
    "print(a1[1])\n",
    "print(a1[-1])\n",
    "print(a1[-2])"
   ]
  },
  {
   "cell_type": "code",
   "execution_count": 58,
   "metadata": {},
   "outputs": [
    {
     "name": "stdout",
     "output_type": "stream",
     "text": [
      "[[1 2 3]\n",
      " [4 5 6]\n",
      " [7 8 9]]\n",
      "1\n",
      "3\n",
      "5\n",
      "9\n"
     ]
    }
   ],
   "source": [
    "print(a2)\n",
    "print(a2[0,0])\n",
    "print(a2[0,2])\n",
    "print(a2[1,1])\n",
    "print(a2[2,-1])"
   ]
  },
  {
   "cell_type": "code",
   "execution_count": 59,
   "metadata": {},
   "outputs": [
    {
     "name": "stdout",
     "output_type": "stream",
     "text": [
      "[[[1 2 3]\n",
      "  [4 5 6]\n",
      "  [7 8 9]]\n",
      "\n",
      " [[1 2 3]\n",
      "  [4 5 6]\n",
      "  [7 8 9]]\n",
      "\n",
      " [[1 2 3]\n",
      "  [4 5 6]\n",
      "  [7 8 9]]]\n",
      "1\n",
      "5\n",
      "9\n",
      "9\n"
     ]
    }
   ],
   "source": [
    "print(a3)\n",
    "print(a3[0,0,0])\n",
    "print(a3[1,1,1])\n",
    "print(a3[2,2,2])\n",
    "print(a3[2,-1,-1])"
   ]
  },
  {
   "cell_type": "markdown",
   "metadata": {},
   "source": [
    "## 슬라이싱(Slicing)"
   ]
  },
  {
   "cell_type": "markdown",
   "metadata": {},
   "source": [
    "- a[start:stop:step]  start <= ~ < stop\n",
    "- 기본값 : start = 0, stop = ndim, step = 1"
   ]
  },
  {
   "cell_type": "code",
   "execution_count": 60,
   "metadata": {},
   "outputs": [
    {
     "name": "stdout",
     "output_type": "stream",
     "text": [
      "[4 5 6 4 5]\n",
      "[4 5]\n",
      "[4 5 6 4 5]\n",
      "[4]\n",
      "[4 6 5]\n",
      "[5 4 6 5 4]\n"
     ]
    }
   ],
   "source": [
    "print(a1)\n",
    "print(a1[0:2])\n",
    "print(a1[0:])\n",
    "print(a1[:1])\n",
    "print(a1[::2])\n",
    "print(a1[::-1])"
   ]
  },
  {
   "cell_type": "code",
   "execution_count": 61,
   "metadata": {},
   "outputs": [
    {
     "name": "stdout",
     "output_type": "stream",
     "text": [
      "[[1 2 3]\n",
      " [4 5 6]\n",
      " [7 8 9]]\n",
      "[4 5 6]\n",
      "[4 5 6]\n",
      "[[1 2]\n",
      " [4 5]]\n",
      "[[6 5 4]\n",
      " [9 8 7]]\n",
      "[[9 8 7]\n",
      " [6 5 4]\n",
      " [3 2 1]]\n"
     ]
    }
   ],
   "source": [
    "print(a2)\n",
    "print(a2[1])\n",
    "print(a2[1, :])\n",
    "print(a2[:2, :2])\n",
    "print(a2[1:, ::-1])\n",
    "print(a2[::-1,::-1])"
   ]
  },
  {
   "cell_type": "markdown",
   "metadata": {},
   "source": [
    "## 불리언 인덱싱(Boolean Indexing)\n",
    "- 배열 각 요소의 선택 여부를 불리언(True or False)로 지정\n",
    "- True 값인 인덱스의 값만 조회"
   ]
  },
  {
   "cell_type": "code",
   "execution_count": 64,
   "metadata": {},
   "outputs": [
    {
     "name": "stdout",
     "output_type": "stream",
     "text": [
      "[4 5 6 4 5]\n",
      "[5 6 5]\n",
      "[4 6 4]\n"
     ]
    }
   ],
   "source": [
    "print(a1)\n",
    "bi = [False, True, True, False, True]\n",
    "print(a1[bi])\n",
    "bi = [True,False,True,True,False]\n",
    "print(a1[bi])"
   ]
  },
  {
   "cell_type": "code",
   "execution_count": 66,
   "metadata": {},
   "outputs": [
    {
     "name": "stdout",
     "output_type": "stream",
     "text": [
      "[[1 2 3]\n",
      " [4 5 6]\n",
      " [7 8 9]]\n",
      "[[ True  True  True]\n",
      " [ True False  True]\n",
      " [ True  True  True]]\n",
      "[1 2 3 4 6 7 8 9]\n"
     ]
    }
   ],
   "source": [
    "print(a2)\n",
    "bi = np.random.randint(0,2,(3,3),dtype=bool)\n",
    "print(bi)\n",
    "print(a2[bi])"
   ]
  },
  {
   "cell_type": "markdown",
   "metadata": {},
   "source": [
    "## 팬시 인덱싱(Fancy Indexing)"
   ]
  },
  {
   "cell_type": "code",
   "execution_count": 69,
   "metadata": {},
   "outputs": [
    {
     "name": "stdout",
     "output_type": "stream",
     "text": [
      "[4 5 6 4 5]\n",
      "[4, 6]\n",
      "[4 6]\n",
      "[[4 5]\n",
      " [6 4]]\n"
     ]
    }
   ],
   "source": [
    "print(a1)\n",
    "print([a1[0],a1[2]])\n",
    "ind = [0,2]\n",
    "print(a1[ind])\n",
    "ind = np.array([[0,1],       # Fancy Indexing의 결과 dim은 index의 dim을 따라감\n",
    "                [2,0]])\n",
    "print(a1[ind])"
   ]
  },
  {
   "cell_type": "code",
   "execution_count": 72,
   "metadata": {},
   "outputs": [
    {
     "name": "stdout",
     "output_type": "stream",
     "text": [
      "[[1 2 3]\n",
      " [4 5 6]\n",
      " [7 8 9]]\n",
      "[2 9]\n",
      "[[1 2 3]\n",
      " [7 8 9]]\n",
      "[[2 3]\n",
      " [5 6]\n",
      " [8 9]]\n",
      "[2 8]\n",
      "[8 9]\n",
      "[[2 3]\n",
      " [8 9]]\n",
      "[[5 6]\n",
      " [8 9]]\n"
     ]
    }
   ],
   "source": [
    "print(a2)\n",
    "row = np.array([0,2])\n",
    "col = np.array([1,2])\n",
    "print(a2[row,col])\n",
    "print(a2[row,:])\n",
    "print(a2[:,col])\n",
    "print(a2[row,1])\n",
    "print(a2[2,col])\n",
    "print(a2[row,1:])\n",
    "print(a2[1:,col])"
   ]
  },
  {
   "cell_type": "markdown",
   "metadata": {},
   "source": [
    "# 배열 값 삽입/수정/삭제/복사"
   ]
  },
  {
   "cell_type": "markdown",
   "metadata": {},
   "source": [
    "## 배열 값 삽입\n",
    "- insert() : 배열의 특정 위치에 값 삽입\n",
    "- axis를 지정하지 않으면 1차원 배열로 변환\n",
    "- 추가할 방향을 axis로 지정\n",
    "- 원본 배열 변경없이 새로운 배열 반환"
   ]
  },
  {
   "cell_type": "code",
   "execution_count": 77,
   "metadata": {},
   "outputs": [
    {
     "name": "stdout",
     "output_type": "stream",
     "text": [
      "[4 5 6 4 5]\n",
      "[10  4  5  6  4  5]\n",
      "[ 4  5 10  6  4  5]\n"
     ]
    }
   ],
   "source": [
    "print(a1)\n",
    "b1 = np.insert(a1, 0, 10)\n",
    "print(b1)\n",
    "c1 = np.insert(a1,2,10)\n",
    "print(c1)"
   ]
  },
  {
   "cell_type": "code",
   "execution_count": 78,
   "metadata": {},
   "outputs": [
    {
     "name": "stdout",
     "output_type": "stream",
     "text": [
      "[[1 2 3]\n",
      " [4 5 6]\n",
      " [7 8 9]]\n",
      "[[ 1  2  3]\n",
      " [10 10 10]\n",
      " [ 4  5  6]\n",
      " [ 7  8  9]]\n",
      "[[ 1 10  2  3]\n",
      " [ 4 10  5  6]\n",
      " [ 7 10  8  9]]\n"
     ]
    }
   ],
   "source": [
    "print(a2)\n",
    "b2 = np.insert(a2, 1, 10, axis=0)\n",
    "print(b2)\n",
    "c2 = np.insert(a2, 1, 10, axis=1)\n",
    "print(c2)"
   ]
  },
  {
   "cell_type": "markdown",
   "metadata": {},
   "source": [
    "## 배열 값 수정\n",
    "- 배열의 인덱싱으로 접근하여 값 수정"
   ]
  },
  {
   "cell_type": "code",
   "execution_count": 87,
   "metadata": {},
   "outputs": [
    {
     "name": "stdout",
     "output_type": "stream",
     "text": [
      "[9 4 3 4 4]\n",
      "[1 2 3 4 4]\n",
      "[9 2 3 4 4]\n",
      "[9 0 3 0 0]\n",
      "[9 4 3 4 4]\n"
     ]
    }
   ],
   "source": [
    "print(a1)\n",
    "a1[0] = 1\n",
    "a1[1] = 2\n",
    "a1[2] = 3\n",
    "print(a1)\n",
    "a1[:1] = 9 # 슬라이싱에 포함된 모든 원소를 변경\n",
    "print(a1) \n",
    "i = np.array([1,3,4])\n",
    "a1[i] = 0 # fancy indexing\n",
    "print(a1) \n",
    "a1[i] += 4 # 증감 연산자 사용가능\n",
    "print(a1)"
   ]
  },
  {
   "cell_type": "code",
   "execution_count": 92,
   "metadata": {},
   "outputs": [
    {
     "name": "stdout",
     "output_type": "stream",
     "text": [
      "[[1 1 1]\n",
      " [4 2 9]\n",
      " [7 8 9]]\n",
      "[[1 1 1]\n",
      " [4 2 9]\n",
      " [7 8 3]]\n",
      "[[1 1 1]\n",
      " [4 2 9]\n",
      " [7 8 9]]\n",
      "[[1 0 1]\n",
      " [4 2 0]\n",
      " [7 8 9]]\n"
     ]
    }
   ],
   "source": [
    "print(a2)\n",
    "a2[0,0] = 1\n",
    "a2[1,1] = 2\n",
    "a2[2,2] = 3\n",
    "a2[0] = 1 # 전체 ROW 변경\n",
    "print(a2)\n",
    "a2[1:,2] = 9\n",
    "print(a2)\n",
    "row = np.array([0,1])\n",
    "col = np.array([1,2])\n",
    "a2[row,col] = 0\n",
    "print(a2)"
   ]
  },
  {
   "cell_type": "markdown",
   "metadata": {},
   "source": [
    "## 배열 값 삭제\n",
    "- delete() : 배열의 특정 위치에 값 삭제\n",
    "- axis를 지정하지 않으면 1차원 배열로 변환\n",
    "- 삭제할 방향을 axis로 지정\n",
    "- 원본 배열 변경없이 새로운 배열 반환"
   ]
  },
  {
   "cell_type": "code",
   "execution_count": 93,
   "metadata": {},
   "outputs": [
    {
     "name": "stdout",
     "output_type": "stream",
     "text": [
      "[9 4 3 4 4]\n",
      "[9 3 4 4]\n"
     ]
    }
   ],
   "source": [
    "print(a1)\n",
    "b1 = np.delete(a1,1)\n",
    "print(b1)"
   ]
  },
  {
   "cell_type": "code",
   "execution_count": 95,
   "metadata": {},
   "outputs": [
    {
     "name": "stdout",
     "output_type": "stream",
     "text": [
      "[[1 0 1]\n",
      " [4 2 0]\n",
      " [7 8 9]]\n",
      "[[1 0 1]\n",
      " [7 8 9]]\n",
      "[[1 1]\n",
      " [4 0]\n",
      " [7 9]]\n"
     ]
    }
   ],
   "source": [
    "print(a2)\n",
    "b2 = np.delete(a2,1,axis=0)\n",
    "print(b2)\n",
    "c2 = np.delete(a2,1,axis=1)\n",
    "print(c2)"
   ]
  },
  {
   "cell_type": "markdown",
   "metadata": {},
   "source": [
    "## 배열 복사\n",
    "- 리스트 자료형과 달리 배열의 슬라이스는 복사본이 아님"
   ]
  },
  {
   "cell_type": "code",
   "execution_count": 99,
   "metadata": {},
   "outputs": [
    {
     "name": "stdout",
     "output_type": "stream",
     "text": [
      "[[1 0 1]\n",
      " [4 0 0]\n",
      " [7 8 9]]\n",
      "[[1 0]\n",
      " [4 0]]\n",
      "[[1 0]\n",
      " [4 0]]\n",
      "[[1 0]\n",
      " [4 0]]\n",
      "[[1 0 1]\n",
      " [4 0 0]\n",
      " [7 8 9]]\n"
     ]
    }
   ],
   "source": [
    "print(a2)\n",
    "print(a2[:2,:2])\n",
    "a2_sub = a2[:2,:2]\n",
    "print(a2_sub)\n",
    "a2_sub[:,1] = 0  ## 원본 배열도 변경되어 버림\n",
    "print(a2_sub) \n",
    "print(a2) "
   ]
  },
  {
   "cell_type": "markdown",
   "metadata": {},
   "source": [
    "- copy() : 배열이나 하위 배열 내의 값을 명시적으로 복사"
   ]
  },
  {
   "cell_type": "code",
   "execution_count": 101,
   "metadata": {},
   "outputs": [
    {
     "name": "stdout",
     "output_type": "stream",
     "text": [
      "[[1 0 1]\n",
      " [4 0 0]\n",
      " [7 8 9]]\n",
      "[[1 0]\n",
      " [4 0]]\n",
      "[[1 1]\n",
      " [4 1]]\n",
      "[[1 0 1]\n",
      " [4 0 0]\n",
      " [7 8 9]]\n"
     ]
    }
   ],
   "source": [
    "print(a2)\n",
    "a2_sub_copy = a2[:2,:2].copy()\n",
    "print(a2_sub_copy)\n",
    "a2_sub_copy[:,1] = 1\n",
    "print(a2_sub_copy)\n",
    "print(a2)"
   ]
  },
  {
   "cell_type": "markdown",
   "metadata": {},
   "source": [
    "# 배열 변환"
   ]
  },
  {
   "cell_type": "markdown",
   "metadata": {},
   "source": [
    "## 배열 전치 및 축 변경"
   ]
  },
  {
   "cell_type": "code",
   "execution_count": 102,
   "metadata": {},
   "outputs": [
    {
     "name": "stdout",
     "output_type": "stream",
     "text": [
      "[[1 0 1]\n",
      " [4 0 0]\n",
      " [7 8 9]]\n",
      "[[1 4 7]\n",
      " [0 0 8]\n",
      " [1 0 9]]\n"
     ]
    }
   ],
   "source": [
    "print(a2)\n",
    "print(a2.T)"
   ]
  },
  {
   "cell_type": "code",
   "execution_count": 103,
   "metadata": {},
   "outputs": [
    {
     "name": "stdout",
     "output_type": "stream",
     "text": [
      "[[[1 2 3]\n",
      "  [4 5 6]\n",
      "  [7 8 9]]\n",
      "\n",
      " [[1 2 3]\n",
      "  [4 5 6]\n",
      "  [7 8 9]]\n",
      "\n",
      " [[1 2 3]\n",
      "  [4 5 6]\n",
      "  [7 8 9]]]\n",
      "[[[1 1 1]\n",
      "  [4 4 4]\n",
      "  [7 7 7]]\n",
      "\n",
      " [[2 2 2]\n",
      "  [5 5 5]\n",
      "  [8 8 8]]\n",
      "\n",
      " [[3 3 3]\n",
      "  [6 6 6]\n",
      "  [9 9 9]]]\n"
     ]
    }
   ],
   "source": [
    "print(a3)\n",
    "print(a3.T)"
   ]
  },
  {
   "cell_type": "code",
   "execution_count": 104,
   "metadata": {},
   "outputs": [
    {
     "name": "stdout",
     "output_type": "stream",
     "text": [
      "[[1 0 1]\n",
      " [4 0 0]\n",
      " [7 8 9]]\n",
      "[[1 4 7]\n",
      " [0 0 8]\n",
      " [1 0 9]]\n"
     ]
    }
   ],
   "source": [
    "print(a2)\n",
    "print(a2.swapaxes(1,0))"
   ]
  },
  {
   "cell_type": "code",
   "execution_count": 105,
   "metadata": {},
   "outputs": [
    {
     "name": "stdout",
     "output_type": "stream",
     "text": [
      "[[[1 2 3]\n",
      "  [4 5 6]\n",
      "  [7 8 9]]\n",
      "\n",
      " [[1 2 3]\n",
      "  [4 5 6]\n",
      "  [7 8 9]]\n",
      "\n",
      " [[1 2 3]\n",
      "  [4 5 6]\n",
      "  [7 8 9]]]\n",
      "[[[1 2 3]\n",
      "  [1 2 3]\n",
      "  [1 2 3]]\n",
      "\n",
      " [[4 5 6]\n",
      "  [4 5 6]\n",
      "  [4 5 6]]\n",
      "\n",
      " [[7 8 9]\n",
      "  [7 8 9]\n",
      "  [7 8 9]]]\n",
      "[[[1 4 7]\n",
      "  [2 5 8]\n",
      "  [3 6 9]]\n",
      "\n",
      " [[1 4 7]\n",
      "  [2 5 8]\n",
      "  [3 6 9]]\n",
      "\n",
      " [[1 4 7]\n",
      "  [2 5 8]\n",
      "  [3 6 9]]]\n"
     ]
    }
   ],
   "source": [
    "print(a3)\n",
    "print(a3.swapaxes(0,1))\n",
    "print(a3.swapaxes(1,2))"
   ]
  },
  {
   "cell_type": "markdown",
   "metadata": {},
   "source": [
    "## 배열 재구조화"
   ]
  },
  {
   "cell_type": "markdown",
   "metadata": {},
   "source": [
    "- reshape() : 배열의 형상을 변경"
   ]
  },
  {
   "cell_type": "code",
   "execution_count": 107,
   "metadata": {},
   "outputs": [
    {
     "name": "stdout",
     "output_type": "stream",
     "text": [
      "[1 2 3 4 5 6 7 8 9]\n",
      "[[1 2 3]\n",
      " [4 5 6]\n",
      " [7 8 9]]\n"
     ]
    }
   ],
   "source": [
    "n1 = np.arange(1,10)\n",
    "print(n1)\n",
    "print(n1.reshape(3,3))"
   ]
  },
  {
   "cell_type": "markdown",
   "metadata": {},
   "source": [
    "- newaxis() : 새로운 축 추가"
   ]
  },
  {
   "cell_type": "code",
   "execution_count": 108,
   "metadata": {},
   "outputs": [
    {
     "name": "stdout",
     "output_type": "stream",
     "text": [
      "[1 2 3 4 5 6 7 8 9]\n",
      "[[1 2 3 4 5]]\n",
      "[[1]\n",
      " [2]\n",
      " [3]\n",
      " [4]\n",
      " [5]]\n"
     ]
    }
   ],
   "source": [
    "print(n1)\n",
    "print(n1[np.newaxis, :5]) # 행방향\n",
    "print(n1[:5, np.newaxis]) # 열방향, 즉 차원 방향으로"
   ]
  },
  {
   "cell_type": "markdown",
   "metadata": {},
   "source": [
    "## 배열 크기 변경"
   ]
  },
  {
   "cell_type": "markdown",
   "metadata": {},
   "source": [
    "- 배열 모양만 변경"
   ]
  },
  {
   "cell_type": "code",
   "execution_count": 111,
   "metadata": {},
   "outputs": [
    {
     "name": "stdout",
     "output_type": "stream",
     "text": [
      "[[1 2 1 3 0]\n",
      " [8 9 8 6 2]]\n",
      "[[1 2]\n",
      " [1 3]\n",
      " [0 8]\n",
      " [9 8]\n",
      " [6 2]]\n"
     ]
    }
   ],
   "source": [
    "n2 = np.random.randint(0,10,(2,5))\n",
    "print(n2)\n",
    "n2.resize((5,2))\n",
    "print(n2)"
   ]
  },
  {
   "cell_type": "markdown",
   "metadata": {},
   "source": [
    "- 배열 크기 증가, 남은 공간 0으로 채워짐"
   ]
  },
  {
   "cell_type": "code",
   "execution_count": 113,
   "metadata": {},
   "outputs": [
    {
     "name": "stdout",
     "output_type": "stream",
     "text": [
      "[[1 2 1 3 0]\n",
      " [8 9 8 6 2]\n",
      " [0 0 0 0 0]\n",
      " [0 0 0 0 0]\n",
      " [0 0 0 0 0]]\n"
     ]
    }
   ],
   "source": [
    "n2.resize((5,5))\n",
    "print(n2)"
   ]
  },
  {
   "cell_type": "markdown",
   "metadata": {},
   "source": [
    "- 배열 크기 감소\n",
    "- 포함되지 않은 값은 삭제"
   ]
  },
  {
   "cell_type": "code",
   "execution_count": 114,
   "metadata": {},
   "outputs": [
    {
     "name": "stdout",
     "output_type": "stream",
     "text": [
      "[[1 2 1]\n",
      " [3 0 8]\n",
      " [9 8 6]]\n"
     ]
    }
   ],
   "source": [
    "n2.resize((3,3))\n",
    "print(n2)"
   ]
  },
  {
   "cell_type": "markdown",
   "metadata": {},
   "source": [
    "## 배열 추가"
   ]
  },
  {
   "cell_type": "markdown",
   "metadata": {},
   "source": [
    "- append() : 배열의 끝에 값 추가"
   ]
  },
  {
   "cell_type": "code",
   "execution_count": 117,
   "metadata": {},
   "outputs": [
    {
     "name": "stdout",
     "output_type": "stream",
     "text": [
      "[[1 2 3]\n",
      " [4 5 6]\n",
      " [7 8 9]]\n",
      "[[10 11 12]\n",
      " [13 14 15]\n",
      " [16 17 18]]\n"
     ]
    }
   ],
   "source": [
    "a2 = np.arange(1,10).reshape(3,3)\n",
    "print(a2)\n",
    "b2 = np.arange(10,19).reshape(3,3)\n",
    "print(b2)"
   ]
  },
  {
   "cell_type": "markdown",
   "metadata": {},
   "source": [
    "- axis 지정이 없으면 1차원 배열 형태로 변형되어 결합"
   ]
  },
  {
   "cell_type": "code",
   "execution_count": 118,
   "metadata": {},
   "outputs": [
    {
     "name": "stdout",
     "output_type": "stream",
     "text": [
      "[ 1  2  3  4  5  6  7  8  9 10 11 12 13 14 15 16 17 18]\n"
     ]
    }
   ],
   "source": [
    "c2 = np.append(a2,b2)\n",
    "print(c2)"
   ]
  },
  {
   "cell_type": "markdown",
   "metadata": {},
   "source": [
    "- axis = 0으로 지정 shape[0]을 제외한 나머지 shape 같아야함."
   ]
  },
  {
   "cell_type": "code",
   "execution_count": 119,
   "metadata": {},
   "outputs": [
    {
     "name": "stdout",
     "output_type": "stream",
     "text": [
      "[[ 1  2  3]\n",
      " [ 4  5  6]\n",
      " [ 7  8  9]\n",
      " [10 11 12]\n",
      " [13 14 15]\n",
      " [16 17 18]]\n"
     ]
    }
   ],
   "source": [
    "c2 = np.append(a2,b2,axis=0)\n",
    "print(c2)"
   ]
  },
  {
   "cell_type": "markdown",
   "metadata": {},
   "source": [
    "- axis = 1으로 지정 shape[1]을 제외한 나머지 shape 같아야함."
   ]
  },
  {
   "cell_type": "code",
   "execution_count": 120,
   "metadata": {},
   "outputs": [
    {
     "name": "stdout",
     "output_type": "stream",
     "text": [
      "[[ 1  2  3 10 11 12]\n",
      " [ 4  5  6 13 14 15]\n",
      " [ 7  8  9 16 17 18]]\n"
     ]
    }
   ],
   "source": [
    "c2 = np.append(a2,b2,axis=1)\n",
    "print(c2)"
   ]
  },
  {
   "cell_type": "markdown",
   "metadata": {},
   "source": [
    "## 배열 연결"
   ]
  },
  {
   "cell_type": "markdown",
   "metadata": {},
   "source": [
    "- concatenate() : 튜플이나 배열의 리스트를 인수로 사용해 배열 연경"
   ]
  },
  {
   "cell_type": "code",
   "execution_count": 123,
   "metadata": {},
   "outputs": [
    {
     "data": {
      "text/plain": [
       "array([1, 3, 5, 2, 4, 6])"
      ]
     },
     "execution_count": 123,
     "metadata": {},
     "output_type": "execute_result"
    }
   ],
   "source": [
    "a1 = np.array([1,3,5])\n",
    "b1 = np.array([2,4,6])\n",
    "np.concatenate([a1,b1])"
   ]
  },
  {
   "cell_type": "code",
   "execution_count": 124,
   "metadata": {},
   "outputs": [
    {
     "data": {
      "text/plain": [
       "array([1, 3, 5, 2, 4, 6, 7, 8, 9])"
      ]
     },
     "execution_count": 124,
     "metadata": {},
     "output_type": "execute_result"
    }
   ],
   "source": [
    "c1 = np.array([7,8,9])\n",
    "np.concatenate([a1,b1,c1])"
   ]
  },
  {
   "cell_type": "code",
   "execution_count": 125,
   "metadata": {},
   "outputs": [
    {
     "data": {
      "text/plain": [
       "array([[1, 2, 3],\n",
       "       [4, 5, 6],\n",
       "       [1, 2, 3],\n",
       "       [4, 5, 6]])"
      ]
     },
     "execution_count": 125,
     "metadata": {},
     "output_type": "execute_result"
    }
   ],
   "source": [
    "a2 = np.array([[1,2,3],[4,5,6]]) \n",
    "np.concatenate([a2,a2])  # axis는 기본으로 0으로 지정"
   ]
  },
  {
   "cell_type": "code",
   "execution_count": 126,
   "metadata": {},
   "outputs": [
    {
     "data": {
      "text/plain": [
       "array([[1, 2, 3, 1, 2, 3],\n",
       "       [4, 5, 6, 4, 5, 6]])"
      ]
     },
     "execution_count": 126,
     "metadata": {},
     "output_type": "execute_result"
    }
   ],
   "source": [
    "a2 = np.array([[1,2,3],[4,5,6]]) \n",
    "np.concatenate([a2,a2],axis=1)"
   ]
  },
  {
   "cell_type": "markdown",
   "metadata": {},
   "source": [
    "- vstack() : vertical stack, 1차원으로 연결"
   ]
  },
  {
   "cell_type": "code",
   "execution_count": 127,
   "metadata": {},
   "outputs": [
    {
     "data": {
      "text/plain": [
       "array([[1, 2, 3],\n",
       "       [4, 5, 6],\n",
       "       [1, 2, 3],\n",
       "       [4, 5, 6]])"
      ]
     },
     "execution_count": 127,
     "metadata": {},
     "output_type": "execute_result"
    }
   ],
   "source": [
    "np.vstack([a2,a2])"
   ]
  },
  {
   "cell_type": "markdown",
   "metadata": {},
   "source": [
    "- hstack(): horizontal stack, 2차원으로 연결"
   ]
  },
  {
   "cell_type": "code",
   "execution_count": 129,
   "metadata": {},
   "outputs": [
    {
     "data": {
      "text/plain": [
       "array([[1, 2, 3, 1, 2, 3],\n",
       "       [4, 5, 6, 4, 5, 6]])"
      ]
     },
     "execution_count": 129,
     "metadata": {},
     "output_type": "execute_result"
    }
   ],
   "source": [
    "np.hstack([a2,a2])"
   ]
  },
  {
   "cell_type": "markdown",
   "metadata": {},
   "source": [
    "- dstack(): depth stack, 3차원으로 연결"
   ]
  },
  {
   "cell_type": "code",
   "execution_count": 130,
   "metadata": {},
   "outputs": [
    {
     "data": {
      "text/plain": [
       "array([[[1, 1],\n",
       "        [2, 2],\n",
       "        [3, 3]],\n",
       "\n",
       "       [[4, 4],\n",
       "        [5, 5],\n",
       "        [6, 6]]])"
      ]
     },
     "execution_count": 130,
     "metadata": {},
     "output_type": "execute_result"
    }
   ],
   "source": [
    "np.dstack([a2,a2])"
   ]
  },
  {
   "cell_type": "markdown",
   "metadata": {},
   "source": [
    "- stack() : 새로운 차원으로 연결"
   ]
  },
  {
   "cell_type": "code",
   "execution_count": 131,
   "metadata": {},
   "outputs": [
    {
     "data": {
      "text/plain": [
       "array([[[1, 2, 3],\n",
       "        [4, 5, 6]],\n",
       "\n",
       "       [[1, 2, 3],\n",
       "        [4, 5, 6]]])"
      ]
     },
     "execution_count": 131,
     "metadata": {},
     "output_type": "execute_result"
    }
   ],
   "source": [
    "np.stack([a2,a2])"
   ]
  },
  {
   "cell_type": "markdown",
   "metadata": {},
   "source": [
    "## 배열 분할"
   ]
  },
  {
   "cell_type": "markdown",
   "metadata": {},
   "source": [
    "- split() : 배열 분할"
   ]
  },
  {
   "cell_type": "code",
   "execution_count": 133,
   "metadata": {},
   "outputs": [
    {
     "name": "stdout",
     "output_type": "stream",
     "text": [
      "[0 1 2 3 4 5 6 7 8 9]\n",
      "[0 1 2 3 4] [5 6 7 8 9]\n",
      "[0 1] [2 3] [4 5] [6 7] [8 9]\n"
     ]
    }
   ],
   "source": [
    "a1 = np.arange(0,10)\n",
    "print(a1)\n",
    "b1,c1 = np.split(a1,[5])\n",
    "print(b1,c1)\n",
    "b1, c1, d1,e1,f1 =np.split(a1,[2,4,6,8])\n",
    "print(b1,c1,d1,e1,f1)"
   ]
  },
  {
   "cell_type": "markdown",
   "metadata": {},
   "source": [
    "- vsplit() : 수직분할, 1차원 분할"
   ]
  },
  {
   "cell_type": "code",
   "execution_count": 134,
   "metadata": {},
   "outputs": [
    {
     "name": "stdout",
     "output_type": "stream",
     "text": [
      "[[1 2 3]\n",
      " [4 5 6]\n",
      " [7 8 9]]\n",
      "[[1 2 3]\n",
      " [4 5 6]]\n",
      "[[7 8 9]]\n"
     ]
    }
   ],
   "source": [
    "a2 = np.arange(1,10).reshape(3,3)\n",
    "print(a2)\n",
    "b2,c2 = np.vsplit(a2, [2])\n",
    "print(b2)\n",
    "print(c2)"
   ]
  },
  {
   "cell_type": "markdown",
   "metadata": {},
   "source": [
    "- hsplit() : 수평 분할, 2차원으로 분할"
   ]
  },
  {
   "cell_type": "code",
   "execution_count": 135,
   "metadata": {},
   "outputs": [
    {
     "name": "stdout",
     "output_type": "stream",
     "text": [
      "[[1 2 3]\n",
      " [4 5 6]\n",
      " [7 8 9]]\n",
      "[[1 2]\n",
      " [4 5]\n",
      " [7 8]]\n",
      "[[3]\n",
      " [6]\n",
      " [9]]\n"
     ]
    }
   ],
   "source": [
    "a2 = np.arange(1,10).reshape(3,3)\n",
    "print(a2)\n",
    "b2,c2 = np.hsplit(a2,[2])\n",
    "print(b2)\n",
    "print(c2)"
   ]
  },
  {
   "cell_type": "markdown",
   "metadata": {},
   "source": [
    "- dsplit():깊이분할, 3차원으로 분할"
   ]
  },
  {
   "cell_type": "code",
   "execution_count": 136,
   "metadata": {},
   "outputs": [
    {
     "name": "stdout",
     "output_type": "stream",
     "text": [
      "[[[ 1  2  3]\n",
      "  [ 4  5  6]\n",
      "  [ 7  8  9]]\n",
      "\n",
      " [[10 11 12]\n",
      "  [13 14 15]\n",
      "  [16 17 18]]\n",
      "\n",
      " [[19 20 21]\n",
      "  [22 23 24]\n",
      "  [25 26 27]]]\n",
      "[[[ 1  2]\n",
      "  [ 4  5]\n",
      "  [ 7  8]]\n",
      "\n",
      " [[10 11]\n",
      "  [13 14]\n",
      "  [16 17]]\n",
      "\n",
      " [[19 20]\n",
      "  [22 23]\n",
      "  [25 26]]]\n",
      "[[[ 3]\n",
      "  [ 6]\n",
      "  [ 9]]\n",
      "\n",
      " [[12]\n",
      "  [15]\n",
      "  [18]]\n",
      "\n",
      " [[21]\n",
      "  [24]\n",
      "  [27]]]\n"
     ]
    }
   ],
   "source": [
    "a3 = np.arange(1,28).reshape(3,3,3)\n",
    "print(a3)\n",
    "b3,c3 = np.dsplit(a3,[2])\n",
    "print(b3)\n",
    "print(c3)"
   ]
  },
  {
   "cell_type": "markdown",
   "metadata": {},
   "source": [
    "# 배열 연산\n",
    "- NumPy의 배열 연산은 벡터화(vectorized)연산을  사용\n",
    "- 일반적으로 NumPy의 범용 함수(universal functions)을 통해 구현\n",
    "- 배열 요소에 대한 반복적인 계산을 효율적으로 수행"
   ]
  },
  {
   "cell_type": "markdown",
   "metadata": {},
   "source": [
    "## 브로드캐스팅(Broadcasting)"
   ]
  },
  {
   "cell_type": "code",
   "execution_count": 139,
   "metadata": {},
   "outputs": [
    {
     "name": "stdout",
     "output_type": "stream",
     "text": [
      "[1 2 3]\n",
      "[6 7 8]\n",
      "[[1 2 3]\n",
      " [4 5 6]\n",
      " [7 8 9]]\n",
      "[[ 2  4  6]\n",
      " [ 5  7  9]\n",
      " [ 8 10 12]]\n",
      "[[1]\n",
      " [2]\n",
      " [3]]\n",
      "[[2 3 4]\n",
      " [3 4 5]\n",
      " [4 5 6]]\n"
     ]
    }
   ],
   "source": [
    "a1 = np.array([1,2,3])\n",
    "print(a1)\n",
    "print(a1 + 5)\n",
    "\n",
    "a2 = np.arange(1,10).reshape(3,3)\n",
    "print(a2)\n",
    "print(a1 + a2)\n",
    "\n",
    "b2 = np.array([1,2,3]).reshape(3,1)\n",
    "print(b2)\n",
    "print(a1 + b2)"
   ]
  },
  {
   "cell_type": "markdown",
   "metadata": {},
   "source": [
    "## 산술연산"
   ]
  },
  {
   "cell_type": "code",
   "execution_count": 147,
   "metadata": {},
   "outputs": [
    {
     "name": "stdout",
     "output_type": "stream",
     "text": [
      "[1 2 3 4 5 6 7 8 9]\n",
      "[ 2  3  4  5  6  7  8  9 10]\n",
      "[11 12 13 14 15 16 17 18 19]\n",
      "[-1  0  1  2  3  4  5  6  7]\n",
      "[-9 -8 -7 -6 -5 -4 -3 -2 -1]\n",
      "[-1 -2 -3 -4 -5 -6 -7 -8 -9]\n",
      "[-1 -2 -3 -4 -5 -6 -7 -8 -9]\n",
      "[ 2  4  6  8 10 12 14 16 18]\n",
      "[ 2  4  6  8 10 12 14 16 18]\n",
      "[0.5 1.  1.5 2.  2.5 3.  3.5 4.  4.5]\n",
      "[0.5 1.  1.5 2.  2.5 3.  3.5 4.  4.5]\n",
      "[0 1 1 2 2 3 3 4 4]\n",
      "[0 1 1 2 2 3 3 4 4]\n",
      "[ 1  4  9 16 25 36 49 64 81]\n",
      "[ 1  4  9 16 25 36 49 64 81]\n",
      "[1 0 1 0 1 0 1 0 1]\n",
      "[1 0 1 0 1 0 1 0 1]\n"
     ]
    }
   ],
   "source": [
    "a1 = np.arange(1,10)\n",
    "print(a1)\n",
    "print(a1 + 1)\n",
    "print(np.add(a1,10))\n",
    "print(a1 - 2)\n",
    "print(np.subtract(a1,10))\n",
    "print(-a1)\n",
    "print(np.negative(a1))\n",
    "print(a1 * 2)\n",
    "print(np.multiply(a1,2))\n",
    "print(a1 / 2)\n",
    "print(np.divide(a1,2))\n",
    "print(a1 // 2)\n",
    "print(np.floor_divide(a1,2))\n",
    "print(a1 ** 2)\n",
    "print(np.power(a1,2))\n",
    "print(a1 % 2)\n",
    "print(np.mod(a1,2))"
   ]
  },
  {
   "cell_type": "code",
   "execution_count": 149,
   "metadata": {},
   "outputs": [
    {
     "name": "stdout",
     "output_type": "stream",
     "text": [
      "[1 2 3 4 5 6 7 8 9]\n",
      "[5 7 5 1 7 1 8 8 9]\n",
      "[ 6  9  8  5 12  7 15 16 18]\n",
      "[-4 -5 -2  3 -2  5 -1  0  0]\n",
      "[ 5 14 15  4 35  6 56 64 81]\n",
      "[0.2        0.28571429 0.6        4.         0.71428571 6.\n",
      " 0.875      1.         1.        ]\n",
      "[0 0 0 4 0 6 0 1 1]\n",
      "[        1       128       243         4     78125         6   5764801\n",
      "  16777216 387420489]\n",
      "[1 2 3 0 5 0 7 0 0]\n"
     ]
    }
   ],
   "source": [
    "a1 = np.arange(1,10)\n",
    "print(a1)\n",
    "b1 = np.random.randint(1,10,size=9)\n",
    "print(b1)\n",
    "print(a1 + b1)\n",
    "print(a1 - b1)\n",
    "print(a1 * b1)\n",
    "print(a1 / b1)\n",
    "print(a1 // b1)\n",
    "print(a1 ** b1)\n",
    "print(a1 % b1)"
   ]
  },
  {
   "cell_type": "code",
   "execution_count": 151,
   "metadata": {},
   "outputs": [
    {
     "name": "stdout",
     "output_type": "stream",
     "text": [
      "[[1 2 3]\n",
      " [4 5 6]\n",
      " [7 8 9]]\n",
      "[[7 4 1]\n",
      " [2 8 2]\n",
      " [4 3 7]]\n",
      "[[ 8  6  4]\n",
      " [ 6 13  8]\n",
      " [11 11 16]]\n",
      "[[-6 -2  2]\n",
      " [ 2 -3  4]\n",
      " [ 3  5  2]]\n",
      "[[ 7  8  3]\n",
      " [ 8 40 12]\n",
      " [28 24 63]]\n",
      "[[0.14285714 0.5        3.        ]\n",
      " [2.         0.625      3.        ]\n",
      " [1.75       2.66666667 1.28571429]]\n",
      "[[0 0 3]\n",
      " [2 0 3]\n",
      " [1 2 1]]\n",
      "[[      1      16       3]\n",
      " [     16  390625      36]\n",
      " [   2401     512 4782969]]\n",
      "[[1 2 0]\n",
      " [0 5 0]\n",
      " [3 2 2]]\n"
     ]
    }
   ],
   "source": [
    "a2 = np.arange(1,10).reshape(3,3)\n",
    "print(a2)\n",
    "b2 = np.random.randint(1,10,(3,3))\n",
    "print(b2)\n",
    "print(a2 + b2)\n",
    "print(a2 - b2)\n",
    "print(a2 * b2)\n",
    "print(a2 / b2)\n",
    "print(a2 // b2)\n",
    "print(a2 ** b2)\n",
    "print(a2 % b2)"
   ]
  },
  {
   "cell_type": "markdown",
   "metadata": {},
   "source": [
    "### 절대값 함수(Absolute Function)"
   ]
  },
  {
   "cell_type": "markdown",
   "metadata": {},
   "source": [
    "- absolute(), abs() : 내장 절대값 함수"
   ]
  },
  {
   "cell_type": "code",
   "execution_count": 154,
   "metadata": {},
   "outputs": [
    {
     "name": "stdout",
     "output_type": "stream",
     "text": [
      "[ 4 -3 -5  8 -8]\n",
      "[4 3 5 8 8]\n",
      "[4 3 5 8 8]\n"
     ]
    }
   ],
   "source": [
    "a1 = np.random.randint(-10,10,5)\n",
    "print(a1)\n",
    "print(np.absolute(a1))\n",
    "print(np.abs(a1))"
   ]
  },
  {
   "cell_type": "markdown",
   "metadata": {},
   "source": [
    "### 제곱/제곱근 함수"
   ]
  },
  {
   "cell_type": "markdown",
   "metadata": {},
   "source": [
    "- square,sqrt: 제곱, 제곱근함수"
   ]
  },
  {
   "cell_type": "code",
   "execution_count": 157,
   "metadata": {},
   "outputs": [
    {
     "name": "stdout",
     "output_type": "stream",
     "text": [
      "[ 4 -3 -5  8 -8]\n",
      "[16  9 25 64 64]\n",
      "[2.                nan        nan 2.82842712        nan]\n"
     ]
    },
    {
     "name": "stderr",
     "output_type": "stream",
     "text": [
      "/var/folders/td/4qb43vgx4w92xyck7j2hlgph0000gn/T/ipykernel_44551/2033102379.py:3: RuntimeWarning: invalid value encountered in sqrt\n",
      "  print(np.sqrt(a1))\n"
     ]
    }
   ],
   "source": [
    "print(a1)\n",
    "print(np.square(a1))\n",
    "print(np.sqrt(a1))"
   ]
  },
  {
   "cell_type": "markdown",
   "metadata": {},
   "source": [
    "### 지수와 로그 함수(Exponential and Log Function)"
   ]
  },
  {
   "cell_type": "code",
   "execution_count": 158,
   "metadata": {},
   "outputs": [
    {
     "name": "stdout",
     "output_type": "stream",
     "text": [
      "[7 4 4 4 1]\n",
      "[1096.63315843   54.59815003   54.59815003   54.59815003    2.71828183]\n",
      "[128.  16.  16.  16.   2.]\n",
      "[49 16 16 16  1]\n"
     ]
    }
   ],
   "source": [
    "a1 = np.random.randint(1,10,5)\n",
    "print(a1)\n",
    "print(np.exp(a1))\n",
    "print(np.exp2(a1))\n",
    "print(np.power(a1,2))"
   ]
  },
  {
   "cell_type": "code",
   "execution_count": 159,
   "metadata": {},
   "outputs": [
    {
     "name": "stdout",
     "output_type": "stream",
     "text": [
      "[7 4 4 4 1]\n",
      "[1.94591015 1.38629436 1.38629436 1.38629436 0.        ]\n",
      "[2.80735492 2.         2.         2.         0.        ]\n",
      "[0.84509804 0.60205999 0.60205999 0.60205999 0.        ]\n"
     ]
    }
   ],
   "source": [
    "print(a1)\n",
    "print(np.log(a1))\n",
    "print(np.log2(a1))\n",
    "print(np.log10(a1))"
   ]
  },
  {
   "cell_type": "markdown",
   "metadata": {},
   "source": [
    "### 삼각함수(Trigonometrical Function)"
   ]
  },
  {
   "cell_type": "code",
   "execution_count": 163,
   "metadata": {},
   "outputs": [
    {
     "name": "stdout",
     "output_type": "stream",
     "text": [
      "[0.         1.57079633 3.14159265]\n",
      "[0.0000000e+00 1.0000000e+00 1.2246468e-16]\n",
      "[ 1.000000e+00  6.123234e-17 -1.000000e+00]\n",
      "[ 0.00000000e+00  1.63312394e+16 -1.22464680e-16]\n"
     ]
    }
   ],
   "source": [
    "t = np.linspace(0,np.pi,3)\n",
    "print(t)\n",
    "print(np.sin(t))\n",
    "print(np.cos(t))\n",
    "print(np.tan(t))"
   ]
  },
  {
   "cell_type": "code",
   "execution_count": 164,
   "metadata": {},
   "outputs": [
    {
     "name": "stdout",
     "output_type": "stream",
     "text": [
      "[-1, 0, 1]\n",
      "[-1.57079633  0.          1.57079633]\n",
      "[3.14159265 1.57079633 0.        ]\n",
      "[-0.78539816  0.          0.78539816]\n"
     ]
    }
   ],
   "source": [
    "x = [-1,0,1]\n",
    "print(x)\n",
    "print(np.arcsin(x))\n",
    "print(np.arccos(x))\n",
    "print(np.arctan(x))"
   ]
  },
  {
   "cell_type": "markdown",
   "metadata": {},
   "source": [
    "### 집계함수"
   ]
  },
  {
   "cell_type": "markdown",
   "metadata": {},
   "source": [
    "#### sum():합계산"
   ]
  },
  {
   "cell_type": "code",
   "execution_count": 169,
   "metadata": {},
   "outputs": [
    {
     "name": "stdout",
     "output_type": "stream",
     "text": [
      "[[2 8 2]\n",
      " [7 3 7]\n",
      " [2 9 1]]\n",
      "41 41\n",
      "[11 20 10] [11 20 10]\n",
      "[12 17 12] [12 17 12]\n"
     ]
    }
   ],
   "source": [
    "a2 = np.random.randint(1,10,(3,3))\n",
    "print(a2)\n",
    "print(a2.sum(), np.sum(a2))\n",
    "print(a2.sum(axis=0), np.sum(a2, axis=0))\n",
    "print(a2.sum(axis=1), np.sum(a2, axis=1))"
   ]
  },
  {
   "cell_type": "markdown",
   "metadata": {},
   "source": [
    "#### cumsum():누적합 계산"
   ]
  },
  {
   "cell_type": "code",
   "execution_count": 171,
   "metadata": {},
   "outputs": [
    {
     "name": "stdout",
     "output_type": "stream",
     "text": [
      "[[2 8 2]\n",
      " [7 3 7]\n",
      " [2 9 1]]\n",
      "[ 2 10 12 19 22 29 31 40 41]\n",
      "[[ 2  8  2]\n",
      " [ 9 11  9]\n",
      " [11 20 10]]\n",
      "[[ 2 10 12]\n",
      " [ 7 10 17]\n",
      " [ 2 11 12]]\n"
     ]
    }
   ],
   "source": [
    "print(a2)\n",
    "print(np.cumsum(a2))\n",
    "print(np.cumsum(a2, axis=0))\n",
    "print(np.cumsum(a2, axis=1))"
   ]
  },
  {
   "cell_type": "markdown",
   "metadata": {},
   "source": [
    "#### diff():차분 계산"
   ]
  },
  {
   "cell_type": "code",
   "execution_count": 172,
   "metadata": {},
   "outputs": [
    {
     "name": "stdout",
     "output_type": "stream",
     "text": [
      "[[2 8 2]\n",
      " [7 3 7]\n",
      " [2 9 1]]\n",
      "[[ 6 -6]\n",
      " [-4  4]\n",
      " [ 7 -8]]\n",
      "[[ 5 -5  5]\n",
      " [-5  6 -6]]\n",
      "[[ 6 -6]\n",
      " [-4  4]\n",
      " [ 7 -8]]\n"
     ]
    }
   ],
   "source": [
    "print(a2)\n",
    "print(np.diff(a2))\n",
    "print(np.diff(a2, axis=0))\n",
    "print(np.diff(a2, axis=1))"
   ]
  },
  {
   "cell_type": "markdown",
   "metadata": {},
   "source": [
    "#### prod():곱 계산"
   ]
  },
  {
   "cell_type": "code",
   "execution_count": 173,
   "metadata": {},
   "outputs": [
    {
     "name": "stdout",
     "output_type": "stream",
     "text": [
      "[[2 8 2]\n",
      " [7 3 7]\n",
      " [2 9 1]]\n",
      "84672\n",
      "[ 28 216  14]\n",
      "[ 32 147  18]\n"
     ]
    }
   ],
   "source": [
    "print(a2)\n",
    "print(np.prod(a2))\n",
    "print(np.prod(a2, axis=0))\n",
    "print(np.prod(a2, axis=1))"
   ]
  },
  {
   "cell_type": "markdown",
   "metadata": {},
   "source": [
    "#### comprod():누적곱 계산"
   ]
  },
  {
   "cell_type": "code",
   "execution_count": 174,
   "metadata": {},
   "outputs": [
    {
     "name": "stdout",
     "output_type": "stream",
     "text": [
      "[[2 8 2]\n",
      " [7 3 7]\n",
      " [2 9 1]]\n",
      "[    2    16    32   224   672  4704  9408 84672 84672]\n",
      "[[  2   8   2]\n",
      " [ 14  24  14]\n",
      " [ 28 216  14]]\n",
      "[[  2  16  32]\n",
      " [  7  21 147]\n",
      " [  2  18  18]]\n"
     ]
    }
   ],
   "source": [
    "print(a2)\n",
    "print(np.cumprod(a2))\n",
    "print(np.cumprod(a2, axis=0))\n",
    "print(np.cumprod(a2, axis=1))"
   ]
  },
  {
   "cell_type": "markdown",
   "metadata": {},
   "source": [
    "#### dot()/matmul(): 점곱/행렬곱 계산"
   ]
  },
  {
   "cell_type": "code",
   "execution_count": 175,
   "metadata": {},
   "outputs": [
    {
     "name": "stdout",
     "output_type": "stream",
     "text": [
      "[[2 8 2]\n",
      " [7 3 7]\n",
      " [2 9 1]]\n",
      "[[1 1 1]\n",
      " [1 1 1]\n",
      " [1 1 1]]\n",
      "[[12 12 12]\n",
      " [17 17 17]\n",
      " [12 12 12]]\n",
      "[[12 12 12]\n",
      " [17 17 17]\n",
      " [12 12 12]]\n"
     ]
    }
   ],
   "source": [
    "print(a2)\n",
    "b2 = np.ones_like(a2)\n",
    "print(b2)\n",
    "print(np.dot(a2,b2))\n",
    "print(np.matmul(a2,b2))"
   ]
  },
  {
   "cell_type": "markdown",
   "metadata": {},
   "source": [
    "#### tensordot():텐서곱 계산"
   ]
  },
  {
   "cell_type": "code",
   "execution_count": 176,
   "metadata": {},
   "outputs": [
    {
     "name": "stdout",
     "output_type": "stream",
     "text": [
      "[[2 8 2]\n",
      " [7 3 7]\n",
      " [2 9 1]]\n",
      "[[1 1 1]\n",
      " [1 1 1]\n",
      " [1 1 1]]\n",
      "41\n",
      "[[[[2 2 2]\n",
      "   [2 2 2]\n",
      "   [2 2 2]]\n",
      "\n",
      "  [[8 8 8]\n",
      "   [8 8 8]\n",
      "   [8 8 8]]\n",
      "\n",
      "  [[2 2 2]\n",
      "   [2 2 2]\n",
      "   [2 2 2]]]\n",
      "\n",
      "\n",
      " [[[7 7 7]\n",
      "   [7 7 7]\n",
      "   [7 7 7]]\n",
      "\n",
      "  [[3 3 3]\n",
      "   [3 3 3]\n",
      "   [3 3 3]]\n",
      "\n",
      "  [[7 7 7]\n",
      "   [7 7 7]\n",
      "   [7 7 7]]]\n",
      "\n",
      "\n",
      " [[[2 2 2]\n",
      "   [2 2 2]\n",
      "   [2 2 2]]\n",
      "\n",
      "  [[9 9 9]\n",
      "   [9 9 9]\n",
      "   [9 9 9]]\n",
      "\n",
      "  [[1 1 1]\n",
      "   [1 1 1]\n",
      "   [1 1 1]]]]\n",
      "[[12 12 12]\n",
      " [17 17 17]\n",
      " [12 12 12]]\n"
     ]
    }
   ],
   "source": [
    "print(a2)\n",
    "print(b2)\n",
    "print(np.tensordot(a2,b2))\n",
    "print(np.tensordot(a2,b2,axes=0))\n",
    "print(np.tensordot(a2,b2,axes=1))"
   ]
  },
  {
   "cell_type": "markdown",
   "metadata": {},
   "source": [
    "#### cross(): 벡터곱"
   ]
  },
  {
   "cell_type": "code",
   "execution_count": 177,
   "metadata": {},
   "outputs": [
    {
     "name": "stdout",
     "output_type": "stream",
     "text": [
      "[-3  6 -3]\n"
     ]
    }
   ],
   "source": [
    "x = [1,2,3]\n",
    "y = [4,5,6]\n",
    "print(np.cross(x,y))"
   ]
  },
  {
   "cell_type": "markdown",
   "metadata": {},
   "source": [
    "#### inner()/outer(): 벡터 내적/외적"
   ]
  },
  {
   "cell_type": "code",
   "execution_count": 178,
   "metadata": {},
   "outputs": [
    {
     "name": "stdout",
     "output_type": "stream",
     "text": [
      "[[2 8 2]\n",
      " [7 3 7]\n",
      " [2 9 1]]\n",
      "[[1 1 1]\n",
      " [1 1 1]\n",
      " [1 1 1]]\n",
      "[[12 12 12]\n",
      " [17 17 17]\n",
      " [12 12 12]]\n",
      "[[2 2 2 2 2 2 2 2 2]\n",
      " [8 8 8 8 8 8 8 8 8]\n",
      " [2 2 2 2 2 2 2 2 2]\n",
      " [7 7 7 7 7 7 7 7 7]\n",
      " [3 3 3 3 3 3 3 3 3]\n",
      " [7 7 7 7 7 7 7 7 7]\n",
      " [2 2 2 2 2 2 2 2 2]\n",
      " [9 9 9 9 9 9 9 9 9]\n",
      " [1 1 1 1 1 1 1 1 1]]\n"
     ]
    }
   ],
   "source": [
    "print(a2)\n",
    "print(b2)\n",
    "print(np.inner(a2,b2))\n",
    "print(np.outer(a2,b2))"
   ]
  },
  {
   "cell_type": "markdown",
   "metadata": {},
   "source": [
    "#### mean():평균 계산"
   ]
  },
  {
   "cell_type": "code",
   "execution_count": 179,
   "metadata": {},
   "outputs": [
    {
     "name": "stdout",
     "output_type": "stream",
     "text": [
      "[[2 8 2]\n",
      " [7 3 7]\n",
      " [2 9 1]]\n",
      "4.555555555555555\n",
      "[3.66666667 6.66666667 3.33333333]\n",
      "[4.         5.66666667 4.        ]\n"
     ]
    }
   ],
   "source": [
    "print(a2)\n",
    "print(np.mean(a2))\n",
    "print(np.mean(a2,axis=0))\n",
    "print(np.mean(a2,axis=1))"
   ]
  },
  {
   "cell_type": "markdown",
   "metadata": {},
   "source": [
    "#### std():표준 편차 계산"
   ]
  },
  {
   "cell_type": "code",
   "execution_count": 180,
   "metadata": {},
   "outputs": [
    {
     "name": "stdout",
     "output_type": "stream",
     "text": [
      "[[2 8 2]\n",
      " [7 3 7]\n",
      " [2 9 1]]\n",
      "2.9481109247603556\n",
      "[2.3570226  2.62466929 2.62466929]\n",
      "[2.82842712 1.88561808 3.55902608]\n"
     ]
    }
   ],
   "source": [
    "print(a2)\n",
    "print(np.std(a2))\n",
    "print(np.std(a2,axis=0))\n",
    "print(np.std(a2,axis=1))"
   ]
  },
  {
   "cell_type": "markdown",
   "metadata": {},
   "source": [
    "#### var():분산 계산"
   ]
  },
  {
   "cell_type": "code",
   "execution_count": 182,
   "metadata": {},
   "outputs": [
    {
     "name": "stdout",
     "output_type": "stream",
     "text": [
      "[[2 8 2]\n",
      " [7 3 7]\n",
      " [2 9 1]]\n",
      "8.69135802469136\n",
      "[5.55555556 6.88888889 6.88888889]\n",
      "[ 8.          3.55555556 12.66666667]\n"
     ]
    }
   ],
   "source": [
    "print(a2)\n",
    "print(np.var(a2))\n",
    "print(np.var(a2,axis=0))\n",
    "print(np.var(a2,axis=1))"
   ]
  },
  {
   "cell_type": "markdown",
   "metadata": {},
   "source": [
    "#### min():최소값"
   ]
  },
  {
   "cell_type": "code",
   "execution_count": 183,
   "metadata": {},
   "outputs": [
    {
     "name": "stdout",
     "output_type": "stream",
     "text": [
      "[[2 8 2]\n",
      " [7 3 7]\n",
      " [2 9 1]]\n",
      "1\n",
      "[2 3 1]\n",
      "[2 3 1]\n"
     ]
    }
   ],
   "source": [
    "print(a2)\n",
    "print(np.min(a2))\n",
    "print(np.min(a2,axis=0))\n",
    "print(np.min(a2,axis=1))"
   ]
  },
  {
   "cell_type": "markdown",
   "metadata": {},
   "source": [
    "#### max():최대값"
   ]
  },
  {
   "cell_type": "code",
   "execution_count": 184,
   "metadata": {},
   "outputs": [
    {
     "name": "stdout",
     "output_type": "stream",
     "text": [
      "[[2 8 2]\n",
      " [7 3 7]\n",
      " [2 9 1]]\n",
      "9\n",
      "[7 9 7]\n",
      "[8 7 9]\n"
     ]
    }
   ],
   "source": [
    "print(a2)\n",
    "print(np.max(a2))\n",
    "print(np.max(a2,axis=0))\n",
    "print(np.max(a2,axis=1))"
   ]
  },
  {
   "cell_type": "markdown",
   "metadata": {},
   "source": [
    "#### argmin():최소값 인덱스"
   ]
  },
  {
   "cell_type": "code",
   "execution_count": 185,
   "metadata": {},
   "outputs": [
    {
     "name": "stdout",
     "output_type": "stream",
     "text": [
      "[[2 8 2]\n",
      " [7 3 7]\n",
      " [2 9 1]]\n",
      "8\n",
      "[0 1 2]\n",
      "[0 1 2]\n"
     ]
    }
   ],
   "source": [
    "print(a2)\n",
    "print(np.argmin(a2))\n",
    "print(np.argmin(a2,axis=0))\n",
    "print(np.argmin(a2,axis=1))"
   ]
  },
  {
   "cell_type": "markdown",
   "metadata": {},
   "source": [
    "#### argmax():최대값 인덱스"
   ]
  },
  {
   "cell_type": "code",
   "execution_count": 186,
   "metadata": {},
   "outputs": [
    {
     "name": "stdout",
     "output_type": "stream",
     "text": [
      "[[2 8 2]\n",
      " [7 3 7]\n",
      " [2 9 1]]\n",
      "7\n",
      "[1 2 1]\n",
      "[1 0 1]\n"
     ]
    }
   ],
   "source": [
    "print(a2)\n",
    "print(np.argmax(a2))\n",
    "print(np.argmax(a2,axis=0))\n",
    "print(np.argmax(a2,axis=1))"
   ]
  },
  {
   "cell_type": "markdown",
   "metadata": {},
   "source": [
    "#### median():중앙값"
   ]
  },
  {
   "cell_type": "code",
   "execution_count": 187,
   "metadata": {},
   "outputs": [
    {
     "name": "stdout",
     "output_type": "stream",
     "text": [
      "[[2 8 2]\n",
      " [7 3 7]\n",
      " [2 9 1]]\n",
      "3.0\n",
      "[2. 8. 2.]\n",
      "[2. 7. 2.]\n"
     ]
    }
   ],
   "source": [
    "print(a2)\n",
    "print(np.median(a2))\n",
    "print(np.median(a2,axis=0))\n",
    "print(np.median(a2,axis=1))"
   ]
  },
  {
   "cell_type": "markdown",
   "metadata": {},
   "source": [
    "#### percentile():백분위 수"
   ]
  },
  {
   "cell_type": "code",
   "execution_count": 188,
   "metadata": {},
   "outputs": [
    {
     "name": "stdout",
     "output_type": "stream",
     "text": [
      "[0 1 2 3]\n",
      "[0.  0.6 1.2 1.8 2.4 3. ]\n",
      "[0 1 2 2 3 3]\n",
      "[0 0 1 1 2 3]\n",
      "[0 1 1 2 2 3]\n",
      "[0.  0.5 1.5 1.5 2.5 3. ]\n"
     ]
    },
    {
     "name": "stderr",
     "output_type": "stream",
     "text": [
      "/var/folders/td/4qb43vgx4w92xyck7j2hlgph0000gn/T/ipykernel_44551/395359856.py:3: DeprecationWarning: the `interpolation=` argument to percentile was renamed to `method=`, which has additional options.\n",
      "Users of the modes 'nearest', 'lower', 'higher', or 'midpoint' are encouraged to review the method they used. (Deprecated NumPy 1.22)\n",
      "  print(np.percentile(a1,[0,20,40,60,80,100],interpolation='linear'))\n",
      "/var/folders/td/4qb43vgx4w92xyck7j2hlgph0000gn/T/ipykernel_44551/395359856.py:4: DeprecationWarning: the `interpolation=` argument to percentile was renamed to `method=`, which has additional options.\n",
      "Users of the modes 'nearest', 'lower', 'higher', or 'midpoint' are encouraged to review the method they used. (Deprecated NumPy 1.22)\n",
      "  print(np.percentile(a1,[0,20,40,60,80,100],interpolation='higher'))\n",
      "/var/folders/td/4qb43vgx4w92xyck7j2hlgph0000gn/T/ipykernel_44551/395359856.py:5: DeprecationWarning: the `interpolation=` argument to percentile was renamed to `method=`, which has additional options.\n",
      "Users of the modes 'nearest', 'lower', 'higher', or 'midpoint' are encouraged to review the method they used. (Deprecated NumPy 1.22)\n",
      "  print(np.percentile(a1,[0,20,40,60,80,100],interpolation='lower'))\n",
      "/var/folders/td/4qb43vgx4w92xyck7j2hlgph0000gn/T/ipykernel_44551/395359856.py:6: DeprecationWarning: the `interpolation=` argument to percentile was renamed to `method=`, which has additional options.\n",
      "Users of the modes 'nearest', 'lower', 'higher', or 'midpoint' are encouraged to review the method they used. (Deprecated NumPy 1.22)\n",
      "  print(np.percentile(a1,[0,20,40,60,80,100],interpolation='nearest'))\n",
      "/var/folders/td/4qb43vgx4w92xyck7j2hlgph0000gn/T/ipykernel_44551/395359856.py:7: DeprecationWarning: the `interpolation=` argument to percentile was renamed to `method=`, which has additional options.\n",
      "Users of the modes 'nearest', 'lower', 'higher', or 'midpoint' are encouraged to review the method they used. (Deprecated NumPy 1.22)\n",
      "  print(np.percentile(a1,[0,20,40,60,80,100],interpolation='midpoint'))\n"
     ]
    }
   ],
   "source": [
    "a1 = np.array([0,1,2,3])\n",
    "print(a1)\n",
    "print(np.percentile(a1,[0,20,40,60,80,100],interpolation='linear'))\n",
    "print(np.percentile(a1,[0,20,40,60,80,100],interpolation='higher'))\n",
    "print(np.percentile(a1,[0,20,40,60,80,100],interpolation='lower'))\n",
    "print(np.percentile(a1,[0,20,40,60,80,100],interpolation='nearest'))\n",
    "print(np.percentile(a1,[0,20,40,60,80,100],interpolation='midpoint'))"
   ]
  },
  {
   "cell_type": "markdown",
   "metadata": {},
   "source": [
    "#### any() : 하나의 element 이상이 True이면 True"
   ]
  },
  {
   "cell_type": "code",
   "execution_count": 191,
   "metadata": {},
   "outputs": [
    {
     "name": "stdout",
     "output_type": "stream",
     "text": [
      "[[False False False]\n",
      " [False  True  True]\n",
      " [False  True  True]]\n",
      "True\n",
      "[False  True  True]\n",
      "[False  True  True]\n"
     ]
    }
   ],
   "source": [
    "a2 = np.array([[False,False,False],\n",
    "               [False,True,True],\n",
    "               [False,True,True]])\n",
    "print(a2)\n",
    "print(np.any(a2))\n",
    "print(np.any(a2,axis=0))\n",
    "print(np.any(a2,axis=1))"
   ]
  },
  {
   "cell_type": "markdown",
   "metadata": {},
   "source": [
    "#### all(): 모든 element가 true여야 true"
   ]
  },
  {
   "cell_type": "code",
   "execution_count": 193,
   "metadata": {},
   "outputs": [
    {
     "name": "stdout",
     "output_type": "stream",
     "text": [
      "[[False False  True]\n",
      " [ True  True  True]\n",
      " [False  True  True]]\n",
      "False\n",
      "[False False  True]\n",
      "[False  True False]\n"
     ]
    }
   ],
   "source": [
    "a2 = np.array([[False,False,True],\n",
    "               [True,True,True],\n",
    "               [False,True,True]])\n",
    "print(a2)\n",
    "print(np.all(a2))\n",
    "print(np.all(a2,axis=0))\n",
    "print(np.all(a2,axis=1))"
   ]
  },
  {
   "cell_type": "markdown",
   "metadata": {},
   "source": [
    "### 비교연산(Comparison Operators)"
   ]
  },
  {
   "cell_type": "code",
   "execution_count": 199,
   "metadata": {},
   "outputs": [
    {
     "name": "stdout",
     "output_type": "stream",
     "text": [
      "[1 2 3 4 5 6 7 8 9]\n",
      "[False False False False  True False False False False]\n",
      "[ True  True  True  True False  True  True  True  True]\n",
      "[ True  True  True  True False False False False False]\n",
      "[ True  True  True  True  True False False False False]\n",
      "[False False False False False  True  True  True  True]\n",
      "[False False False False  True  True  True  True  True]\n"
     ]
    }
   ],
   "source": [
    "a1 = np.arange(1,10)\n",
    "print(a1)\n",
    "print(a1 == 5) ## arrray에 대한 True/False 결과값 리턴\n",
    "print(a1 != 5)\n",
    "print(a1 < 5)\n",
    "print(a1 <= 5)\n",
    "print(a1 > 5)\n",
    "print(a1 >= 5)"
   ]
  },
  {
   "cell_type": "code",
   "execution_count": 201,
   "metadata": {},
   "outputs": [
    {
     "name": "stdout",
     "output_type": "stream",
     "text": [
      "[[1 2 3]\n",
      " [4 5 6]\n",
      " [7 8 9]]\n",
      "45\n",
      "4\n",
      "4\n",
      "[1 1 2]\n",
      "[0 1 3]\n",
      "True\n",
      "[ True  True  True]\n",
      "[False  True  True]\n",
      "False\n",
      "[False False False]\n",
      "[False False  True]\n"
     ]
    }
   ],
   "source": [
    "a2 = np.arange(1,10).reshape(3,3)\n",
    "print(a2)\n",
    "print(np.sum(a2))\n",
    "print(np.count_nonzero(a2 > 5))\n",
    "print(np.sum(a2 > 5))\n",
    "print(np.sum(a2 > 5, axis=0))\n",
    "print(np.sum(a2 > 5, axis=1))\n",
    "print(np.any(a2 > 5))\n",
    "print(np.any(a2 > 5, axis = 0))\n",
    "print(np.any(a2 > 5, axis = 1))\n",
    "print(np.all(a2 > 5))\n",
    "print(np.all(a2 > 5, axis = 0))\n",
    "print(np.all(a2 > 5, axis = 1))\n"
   ]
  },
  {
   "cell_type": "code",
   "execution_count": 202,
   "metadata": {},
   "outputs": [
    {
     "name": "stdout",
     "output_type": "stream",
     "text": [
      "[1 2 3 4 5]\n",
      "[1 2 3 3 4]\n",
      "[ True  True  True False False]\n"
     ]
    }
   ],
   "source": [
    "a1 = np.array([1,2,3,4,5])\n",
    "print(a1)\n",
    "b1 = np.array([1,2,3,3,4])\n",
    "print(b1)\n",
    "print(np.isclose(a1,b1)) #배열 두개가(z*1e+02)%내외로 가까우면 True,아니면 False\n"
   ]
  },
  {
   "cell_type": "code",
   "execution_count": 208,
   "metadata": {},
   "outputs": [
    {
     "name": "stdout",
     "output_type": "stream",
     "text": [
      "[ nan   2.  inf   4. -inf]\n",
      "[ True False False False False]\n",
      "[False False  True False  True]\n",
      "[False  True False  True False]\n"
     ]
    }
   ],
   "source": [
    "a1 = np.array([np.nan, 2, np.inf, 4, np.NINF])\n",
    "print(a1)\n",
    "print(np.isnan(a1))\n",
    "print(np.isinf(a1))\n",
    "print(np.isfinite(a1))"
   ]
  },
  {
   "cell_type": "markdown",
   "metadata": {},
   "source": [
    "### 불리언 연산자(Boolean Operators)"
   ]
  },
  {
   "cell_type": "code",
   "execution_count": 212,
   "metadata": {},
   "outputs": [
    {
     "name": "stdout",
     "output_type": "stream",
     "text": [
      "[[1 2 3]\n",
      " [4 5 6]\n",
      " [7 8 9]]\n",
      "[[False False False]\n",
      " [False False  True]\n",
      " [ True False False]]\n",
      "[6 7]\n",
      "[[ True  True  True]\n",
      " [ True  True  True]\n",
      " [ True  True  True]]\n",
      "[1 2 3 4 5 6 7 8 9]\n",
      "[[ True  True  True]\n",
      " [ True  True False]\n",
      " [False  True  True]]\n",
      "[1 2 3 4 5 8 9]\n",
      "[[ True  True  True]\n",
      " [ True  True False]\n",
      " [False False False]]\n",
      "[1 2 3 4 5]\n"
     ]
    }
   ],
   "source": [
    "a2 = np.arange(1,10).reshape(3,3)\n",
    "print(a2)\n",
    "print((a2 > 5) & (a2 < 8))\n",
    "print(a2[(a2 > 5) & (a2 < 8)]) #boolean indexing\n",
    "\n",
    "print((a2 > 5) | (a2 < 8))\n",
    "print(a2[(a2 > 5) | (a2 < 8)]) #boolean indexing\n",
    "\n",
    "print((a2 > 5) ^ (a2 < 8))\n",
    "print(a2[(a2 > 5) ^ (a2 < 8)]) #boolean indexing\n",
    "\n",
    "print(~(a2 > 5))\n",
    "print(a2[~(a2 > 5)]) #boolean indexing"
   ]
  },
  {
   "cell_type": "markdown",
   "metadata": {},
   "source": [
    "### 배열 정렬"
   ]
  },
  {
   "cell_type": "code",
   "execution_count": 214,
   "metadata": {},
   "outputs": [
    {
     "name": "stdout",
     "output_type": "stream",
     "text": [
      "[5 3 6 3 2 6 3 4 9 2]\n",
      "[2 2 3 3 3 4 5 6 6 9]\n",
      "[5 3 6 3 2 6 3 4 9 2]\n",
      "[4 9 1 3 6 7 0 2 5 8]\n",
      "[5 3 6 3 2 6 3 4 9 2]\n",
      "None\n",
      "[2 2 3 3 3 4 5 6 6 9]\n"
     ]
    }
   ],
   "source": [
    "a1 = np.random.randint(1,10,10)\n",
    "print(a1)\n",
    "print(np.sort(a1)) # 원본 배열 정렬 반영 X\n",
    "print(a1)\n",
    "print(np.argsort(a1)) # 정렬되는 인덱스 위치값만 출력\n",
    "print(a1)\n",
    "print(a1.sort()) # 원본 배열에 정렬 반영\n",
    "print(a1)"
   ]
  },
  {
   "cell_type": "code",
   "execution_count": 216,
   "metadata": {},
   "outputs": [
    {
     "name": "stdout",
     "output_type": "stream",
     "text": [
      "[[5 5 9]\n",
      " [2 8 1]\n",
      " [1 3 7]]\n",
      "[[1 3 1]\n",
      " [2 5 7]\n",
      " [5 8 9]]\n",
      "[[5 5 9]\n",
      " [1 2 8]\n",
      " [1 3 7]]\n"
     ]
    }
   ],
   "source": [
    "a2 = np.random.randint(1,10,(3,3))\n",
    "print(a2)\n",
    "print(np.sort(a2,axis=0))\n",
    "print(np.sort(a2,axis=1))"
   ]
  },
  {
   "cell_type": "markdown",
   "metadata": {},
   "source": [
    "#### 부분 정렬"
   ]
  },
  {
   "cell_type": "markdown",
   "metadata": {},
   "source": [
    "- partition(): 배열에서 k개의 작은 값을 반환"
   ]
  },
  {
   "cell_type": "code",
   "execution_count": 217,
   "metadata": {},
   "outputs": [
    {
     "name": "stdout",
     "output_type": "stream",
     "text": [
      "[3 6 6 7 7 2 2 8 6 9]\n",
      "[2 2 3 6 6 6 7 8 7 9]\n"
     ]
    }
   ],
   "source": [
    "a1 = np.random.randint(1,10,10)\n",
    "print(a1)\n",
    "print(np.partition(a1,3))"
   ]
  },
  {
   "cell_type": "code",
   "execution_count": 221,
   "metadata": {},
   "outputs": [
    {
     "name": "stdout",
     "output_type": "stream",
     "text": [
      "[[6 3 2 7 4]\n",
      " [6 6 6 6 2]\n",
      " [5 2 1 6 9]\n",
      " [3 5 5 4 7]\n",
      " [7 5 7 2 7]]\n",
      "[[3 2 4 6 7]\n",
      " [6 2 6 6 6]\n",
      " [2 1 5 6 9]\n",
      " [4 3 5 5 7]\n",
      " [2 7 5 7 7]]\n",
      "[[3 2 1 4 2]\n",
      " [5 3 2 2 4]\n",
      " [6 5 5 6 7]\n",
      " [6 5 6 6 7]\n",
      " [7 6 7 7 9]]\n",
      "[[3 2 4 6 7]\n",
      " [6 2 6 6 6]\n",
      " [2 1 5 6 9]\n",
      " [4 3 5 5 7]\n",
      " [2 7 5 7 7]]\n"
     ]
    }
   ],
   "source": [
    "a2 = np.random.randint(1,10,(5,5))\n",
    "print(a2)\n",
    "print(np.partition(a2,3))\n",
    "print(np.partition(a2,3,axis=0))\n",
    "print(np.partition(a2,3,axis=1))"
   ]
  },
  {
   "cell_type": "markdown",
   "metadata": {},
   "source": [
    "# 배열 입출력"
   ]
  },
  {
   "cell_type": "code",
   "execution_count": 222,
   "metadata": {},
   "outputs": [
    {
     "name": "stdout",
     "output_type": "stream",
     "text": [
      "[[2 9 4 6 8]\n",
      " [6 6 9 7 2]\n",
      " [2 8 8 7 8]\n",
      " [2 1 4 1 3]\n",
      " [8 8 3 8 6]]\n"
     ]
    }
   ],
   "source": [
    "a2 = np.random.randint(1,10,(5,5))\n",
    "print(a2)\n",
    "np.save(\"a\",a2) # Numpy 배열 객체 1개를 파일에 저장 (바이너리 파일)"
   ]
  },
  {
   "cell_type": "code",
   "execution_count": 223,
   "metadata": {},
   "outputs": [
    {
     "name": "stdout",
     "output_type": "stream",
     "text": [
      "Numpy_1.ipynb    a.npy            \u001b[34mnumpy-100-master\u001b[m\u001b[m\n"
     ]
    }
   ],
   "source": [
    "!ls"
   ]
  },
  {
   "cell_type": "code",
   "execution_count": 225,
   "metadata": {},
   "outputs": [
    {
     "name": "stdout",
     "output_type": "stream",
     "text": [
      "[[9 6 6 7 1]\n",
      " [4 5 5 6 2]\n",
      " [1 7 6 1 1]\n",
      " [4 1 8 1 8]\n",
      " [4 2 2 7 7]]\n"
     ]
    }
   ],
   "source": [
    "b2 = np.random.randint(1,10,(5,5))\n",
    "print(b2)\n",
    "np.savez(\"ab\",a2,b2)  # Numpy 배열 객체 2개를 파일에 저장 (바이너리 파일)"
   ]
  },
  {
   "cell_type": "code",
   "execution_count": 226,
   "metadata": {},
   "outputs": [
    {
     "name": "stdout",
     "output_type": "stream",
     "text": [
      "Numpy_1.ipynb    a.npy            ab.npz           \u001b[34mnumpy-100-master\u001b[m\u001b[m\n"
     ]
    }
   ],
   "source": [
    "!ls"
   ]
  },
  {
   "cell_type": "code",
   "execution_count": 227,
   "metadata": {},
   "outputs": [
    {
     "name": "stdout",
     "output_type": "stream",
     "text": [
      "[[2 9 4 6 8]\n",
      " [6 6 9 7 2]\n",
      " [2 8 8 7 8]\n",
      " [2 1 4 1 3]\n",
      " [8 8 3 8 6]]\n"
     ]
    }
   ],
   "source": [
    "npy = np.load(\"a.npy\")\n",
    "print(npy)"
   ]
  },
  {
   "cell_type": "code",
   "execution_count": 229,
   "metadata": {},
   "outputs": [
    {
     "name": "stdout",
     "output_type": "stream",
     "text": [
      "['arr_0', 'arr_1']\n",
      "[[2 9 4 6 8]\n",
      " [6 6 9 7 2]\n",
      " [2 8 8 7 8]\n",
      " [2 1 4 1 3]\n",
      " [8 8 3 8 6]]\n",
      "[[9 6 6 7 1]\n",
      " [4 5 5 6 2]\n",
      " [1 7 6 1 1]\n",
      " [4 1 8 1 8]\n",
      " [4 2 2 7 7]]\n"
     ]
    }
   ],
   "source": [
    "npz = np.load(\"ab.npz\")\n",
    "print(npz.files)\n",
    "print(npz['arr_0'])\n",
    "print(npz['arr_1'])"
   ]
  },
  {
   "cell_type": "code",
   "execution_count": 230,
   "metadata": {},
   "outputs": [
    {
     "name": "stdout",
     "output_type": "stream",
     "text": [
      "[[2 9 4 6 8]\n",
      " [6 6 9 7 2]\n",
      " [2 8 8 7 8]\n",
      " [2 1 4 1 3]\n",
      " [8 8 3 8 6]]\n"
     ]
    }
   ],
   "source": [
    "print(a2)\n",
    "np.savetxt(\"a.csv\",a2,delimiter=',') #텍스트 파일 형태로 저장"
   ]
  },
  {
   "cell_type": "code",
   "execution_count": 231,
   "metadata": {},
   "outputs": [
    {
     "name": "stdout",
     "output_type": "stream",
     "text": [
      "Numpy_1.ipynb    a.npy            \u001b[34mnumpy-100-master\u001b[m\u001b[m\n",
      "a.csv            ab.npz\n"
     ]
    }
   ],
   "source": [
    "!ls"
   ]
  },
  {
   "cell_type": "code",
   "execution_count": 232,
   "metadata": {},
   "outputs": [
    {
     "name": "stdout",
     "output_type": "stream",
     "text": [
      "2.000000000000000000e+00,9.000000000000000000e+00,4.000000000000000000e+00,6.000000000000000000e+00,8.000000000000000000e+00\n",
      "6.000000000000000000e+00,6.000000000000000000e+00,9.000000000000000000e+00,7.000000000000000000e+00,2.000000000000000000e+00\n",
      "2.000000000000000000e+00,8.000000000000000000e+00,8.000000000000000000e+00,7.000000000000000000e+00,8.000000000000000000e+00\n",
      "2.000000000000000000e+00,1.000000000000000000e+00,4.000000000000000000e+00,1.000000000000000000e+00,3.000000000000000000e+00\n",
      "8.000000000000000000e+00,8.000000000000000000e+00,3.000000000000000000e+00,8.000000000000000000e+00,6.000000000000000000e+00\n"
     ]
    }
   ],
   "source": [
    "!cat a.csv"
   ]
  },
  {
   "cell_type": "code",
   "execution_count": 236,
   "metadata": {},
   "outputs": [
    {
     "name": "stdout",
     "output_type": "stream",
     "text": [
      "[[2. 9. 4. 6. 8.]\n",
      " [6. 6. 9. 7. 2.]\n",
      " [2. 8. 8. 7. 8.]\n",
      " [2. 1. 4. 1. 3.]\n",
      " [8. 8. 3. 8. 6.]]\n"
     ]
    }
   ],
   "source": [
    "csv = np.loadtxt(\"a.csv\", delimiter=',') #delimiter를 정의해줘야함\n",
    "print(csv)"
   ]
  },
  {
   "cell_type": "code",
   "execution_count": 237,
   "metadata": {},
   "outputs": [
    {
     "name": "stdout",
     "output_type": "stream",
     "text": [
      "[[9 6 6 7 1]\n",
      " [4 5 5 6 2]\n",
      " [1 7 6 1 1]\n",
      " [4 1 8 1 8]\n",
      " [4 2 2 7 7]]\n"
     ]
    }
   ],
   "source": [
    "print(b2)\n",
    "np.savetxt(\"b.csv\",b2,delimiter=',',fmt='%.2e',header = 'c1, c2, c3, c4, c5')"
   ]
  },
  {
   "cell_type": "code",
   "execution_count": 238,
   "metadata": {},
   "outputs": [
    {
     "name": "stdout",
     "output_type": "stream",
     "text": [
      "# c1, c2, c3, c4, c5\n",
      "9.00e+00,6.00e+00,6.00e+00,7.00e+00,1.00e+00\n",
      "4.00e+00,5.00e+00,5.00e+00,6.00e+00,2.00e+00\n",
      "1.00e+00,7.00e+00,6.00e+00,1.00e+00,1.00e+00\n",
      "4.00e+00,1.00e+00,8.00e+00,1.00e+00,8.00e+00\n",
      "4.00e+00,2.00e+00,2.00e+00,7.00e+00,7.00e+00\n"
     ]
    }
   ],
   "source": [
    "!cat b.csv"
   ]
  },
  {
   "cell_type": "code",
   "execution_count": 239,
   "metadata": {},
   "outputs": [
    {
     "name": "stdout",
     "output_type": "stream",
     "text": [
      "[[9. 6. 6. 7. 1.]\n",
      " [4. 5. 5. 6. 2.]\n",
      " [1. 7. 6. 1. 1.]\n",
      " [4. 1. 8. 1. 8.]\n",
      " [4. 2. 2. 7. 7.]]\n"
     ]
    }
   ],
   "source": [
    "csv = np.loadtxt(\"b.csv\",delimiter=',')\n",
    "print(csv)"
   ]
  },
  {
   "cell_type": "code",
   "execution_count": null,
   "metadata": {},
   "outputs": [],
   "source": []
  }
 ],
 "metadata": {
  "kernelspec": {
   "display_name": "Python 3.10.6 ('myenv')",
   "language": "python",
   "name": "python3"
  },
  "language_info": {
   "codemirror_mode": {
    "name": "ipython",
    "version": 3
   },
   "file_extension": ".py",
   "mimetype": "text/x-python",
   "name": "python",
   "nbconvert_exporter": "python",
   "pygments_lexer": "ipython3",
   "version": "3.10.6"
  },
  "orig_nbformat": 4,
  "vscode": {
   "interpreter": {
    "hash": "a5622f082e196a7ba315d74255713f16f0edaab7324b512917d565d480c13984"
   }
  }
 },
 "nbformat": 4,
 "nbformat_minor": 2
}
